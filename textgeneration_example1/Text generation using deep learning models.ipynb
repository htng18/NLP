{
 "cells": [
  {
   "cell_type": "markdown",
   "id": "7ab9f90e",
   "metadata": {},
   "source": [
    "# Text generation using deep learning models"
   ]
  },
  {
   "cell_type": "markdown",
   "id": "7c2aaa33",
   "metadata": {},
   "source": [
    "Dataset: https://www.kaggle.com/datasets/neisse/scrapped-lyrics-from-6-genres\n",
    "\n",
    "We study an example of generating text using the deep learning models which are given below:\n",
    "<li> LSTM model\n",
    "<li> Bidirectional LSTM model"
   ]
  },
  {
   "cell_type": "code",
   "execution_count": 1,
   "id": "41272377",
   "metadata": {},
   "outputs": [],
   "source": [
    "import pandas as pd\n",
    "import numpy as np\n",
    "import string\n",
    "from nltk.stem import WordNetLemmatizer\n",
    "import contractions\n",
    "from tensorflow.keras.preprocessing.text import Tokenizer\n",
    "from tensorflow.keras.preprocessing.sequence import pad_sequences\n",
    "from tensorflow.keras.models import Sequential\n",
    "from tensorflow.keras.layers import Dense, Embedding, LSTM, Bidirectional\n",
    "from tensorflow.keras.losses import CategoricalCrossentropy\n",
    "from tensorflow.keras.optimizers import Adam\n",
    "from tensorflow.keras.utils import to_categorical\n",
    "import matplotlib.pyplot as plt\n",
    "\n",
    "import warnings\n",
    "warnings.filterwarnings('ignore')\n",
    "\n",
    "from numpy.random import seed\n",
    "seed(11)\n",
    "import tensorflow\n",
    "tensorflow.random.set_seed(21)"
   ]
  },
  {
   "cell_type": "markdown",
   "id": "bfbd0a17",
   "metadata": {},
   "source": [
    "Load data from csv file"
   ]
  },
  {
   "cell_type": "code",
   "execution_count": 2,
   "id": "81c80ccd",
   "metadata": {},
   "outputs": [],
   "source": [
    "df = pd.read_csv('lyrics-data.csv', index_col=0).reset_index(drop=True)"
   ]
  },
  {
   "cell_type": "code",
   "execution_count": 3,
   "id": "cc6b8e0b",
   "metadata": {},
   "outputs": [],
   "source": [
    "df = df[df.language=='en'][['Lyric']].reset_index(drop=True) # Select the lyrics in English"
   ]
  },
  {
   "cell_type": "markdown",
   "id": "3f98083d",
   "metadata": {},
   "source": [
    "Clean the text"
   ]
  },
  {
   "cell_type": "code",
   "execution_count": 4,
   "id": "2ae799ab",
   "metadata": {},
   "outputs": [],
   "source": [
    "wnl = WordNetLemmatizer()"
   ]
  },
  {
   "cell_type": "code",
   "execution_count": 5,
   "id": "8df75d42",
   "metadata": {},
   "outputs": [],
   "source": [
    "def clean_doc(data):\n",
    "    data = data.str.lower() # change to lower capital\n",
    "    data = data.str.replace(r'[\\d|\\n]',' ') # remove digits\n",
    "    data = data.apply(lambda x: contractions.fix(x)) # convert contractions into full form\n",
    "    data = data.str.replace('[{}]'.format(string.punctuation), ' ') # remove punctuation\n",
    "    data = data.fillna('') # fill 'nan' with ''\n",
    "    data = data.apply(lambda x: x.split()) \n",
    "    data = data.apply(lambda x: [wnl.lemmatize(y) for y in x]) # Lemmatization\n",
    "    data = data.apply(lambda x: ' '.join(x))\n",
    "    return data"
   ]
  },
  {
   "cell_type": "code",
   "execution_count": 6,
   "id": "3bf9629e",
   "metadata": {},
   "outputs": [],
   "source": [
    "df['Lyric'] =  clean_doc(df['Lyric'])"
   ]
  },
  {
   "cell_type": "code",
   "execution_count": 7,
   "id": "9f1985af",
   "metadata": {},
   "outputs": [],
   "source": [
    "lyric = df['Lyric'].tolist() "
   ]
  },
  {
   "cell_type": "markdown",
   "id": "8d4e87c9",
   "metadata": {},
   "source": [
    "Tokenize the document and pad them into sequence"
   ]
  },
  {
   "cell_type": "code",
   "execution_count": 8,
   "id": "62879a8d",
   "metadata": {},
   "outputs": [],
   "source": [
    "# Parameters\n",
    "num_words = 20000           # number of words for tokenization\n",
    "max_features = num_words    # input dim for embedding\n",
    "max_length = 30             # length of input sequence\n",
    "embedding_dim = 128         # output dim for embedding\n",
    "num_class = num_words       # output dim of classes"
   ]
  },
  {
   "cell_type": "code",
   "execution_count": 9,
   "id": "3d681cc3",
   "metadata": {},
   "outputs": [],
   "source": [
    "tokenizer = Tokenizer(num_words=num_words, lower=False) # tokenize the texts\n",
    "tokenizer.fit_on_texts(lyric)\n",
    "docs = tokenizer.texts_to_sequences(lyric)\n",
    "\n",
    "lyric_seq = pad_sequences(docs, maxlen=max_length, padding='pre') # padding the sequences"
   ]
  },
  {
   "cell_type": "code",
   "execution_count": 10,
   "id": "c6304ac8",
   "metadata": {},
   "outputs": [],
   "source": [
    "X, y = lyric_seq[:,:-1], lyric_seq[:,-1]"
   ]
  },
  {
   "cell_type": "code",
   "execution_count": 11,
   "id": "b97c7d53",
   "metadata": {},
   "outputs": [],
   "source": [
    "y = to_categorical(y, num_classes=num_words)"
   ]
  },
  {
   "cell_type": "code",
   "execution_count": 12,
   "id": "adc4da48",
   "metadata": {},
   "outputs": [],
   "source": [
    "# Parameters\n",
    "max_length = max_length - 1           # length of input sequence"
   ]
  },
  {
   "cell_type": "markdown",
   "id": "acb6e87c",
   "metadata": {},
   "source": [
    "# Deep Learning models"
   ]
  },
  {
   "cell_type": "code",
   "execution_count": 13,
   "id": "913fa683",
   "metadata": {},
   "outputs": [],
   "source": [
    "class LSTM_model(object):\n",
    "    '''\n",
    "      LSTM model\n",
    "    '''\n",
    "    def __init__(self, max_features, max_length, embedding_dim, num_class):\n",
    "        self.max_features = max_features\n",
    "        self.max_length = max_length\n",
    "        self.embedding_dim = embedding_dim\n",
    "        self.num_class = num_class\n",
    "        self.model = self.model()\n",
    "        \n",
    "    def model(self):\n",
    "        model = Sequential()\n",
    "        model.add(Embedding(max_features, embedding_dim, input_length=max_length))\n",
    "        model.add(LSTM(128, activation='swish', return_sequences=True))\n",
    "        model.add(LSTM(128, activation='swish', return_sequences=False))\n",
    "        model.add(Dense(embedding_dim, activation='swish'))\n",
    "        model.add(Dense(num_class, activation='softmax'))\n",
    "        return model"
   ]
  },
  {
   "cell_type": "code",
   "execution_count": 14,
   "id": "bf558d31",
   "metadata": {},
   "outputs": [],
   "source": [
    "class BidirectLSTM_model(LSTM_model):\n",
    "    '''\n",
    "      Birectional LSTM model\n",
    "    '''\n",
    "    \n",
    "    def __init__(self):\n",
    "        super().__init__(max_features, max_length, embedding_dim, num_class)\n",
    "        \n",
    "    def model(self):\n",
    "        model = Sequential()\n",
    "        model.add(Embedding(max_features, embedding_dim, input_length=max_length))\n",
    "        model.add(Bidirectional(LSTM(128, activation='swish', return_sequences=True)))\n",
    "        model.add(Bidirectional(LSTM(128, activation='swish', return_sequences=False)))\n",
    "        model.add(Dense(embedding_dim, activation='swish'))\n",
    "        model.add(Dense(num_class, activation='softmax'))\n",
    "        return model"
   ]
  },
  {
   "cell_type": "code",
   "execution_count": 15,
   "id": "2a46012c",
   "metadata": {},
   "outputs": [],
   "source": [
    "#Number of epochs\n",
    "epochs = 25\n",
    "\n",
    "# batch size\n",
    "batch_size = 32\n",
    "\n",
    "# verbose\n",
    "verbose = 2"
   ]
  },
  {
   "cell_type": "markdown",
   "id": "950b4af2",
   "metadata": {},
   "source": [
    "<b>\n",
    "LSTM model"
   ]
  },
  {
   "cell_type": "code",
   "execution_count": 16,
   "id": "c8b85a1a",
   "metadata": {},
   "outputs": [],
   "source": [
    "lstm = LSTM_model(max_features, max_length, embedding_dim, num_class).model"
   ]
  },
  {
   "cell_type": "code",
   "execution_count": 17,
   "id": "cc4af2f0",
   "metadata": {},
   "outputs": [
    {
     "name": "stdout",
     "output_type": "stream",
     "text": [
      "Model: \"sequential\"\n",
      "_________________________________________________________________\n",
      "Layer (type)                 Output Shape              Param #   \n",
      "=================================================================\n",
      "embedding (Embedding)        (None, 29, 128)           2560000   \n",
      "_________________________________________________________________\n",
      "lstm (LSTM)                  (None, 29, 128)           131584    \n",
      "_________________________________________________________________\n",
      "lstm_1 (LSTM)                (None, 128)               131584    \n",
      "_________________________________________________________________\n",
      "dense (Dense)                (None, 128)               16512     \n",
      "_________________________________________________________________\n",
      "dense_1 (Dense)              (None, 20000)             2580000   \n",
      "=================================================================\n",
      "Total params: 5,419,680\n",
      "Trainable params: 5,419,680\n",
      "Non-trainable params: 0\n",
      "_________________________________________________________________\n"
     ]
    }
   ],
   "source": [
    "lstm.summary()"
   ]
  },
  {
   "cell_type": "code",
   "execution_count": 18,
   "id": "6dacc6d1",
   "metadata": {},
   "outputs": [],
   "source": [
    "lstm.compile(loss=CategoricalCrossentropy(), optimizer=Adam(), metrics=['accuracy'])"
   ]
  },
  {
   "cell_type": "code",
   "execution_count": 19,
   "id": "108ac1df",
   "metadata": {},
   "outputs": [
    {
     "name": "stdout",
     "output_type": "stream",
     "text": [
      "Epoch 1/25\n",
      "5995/5995 - 521s - loss: 6.8467 - accuracy: 0.0475\n",
      "Epoch 2/25\n",
      "5995/5995 - 527s - loss: 6.0147 - accuracy: 0.0976\n",
      "Epoch 3/25\n",
      "5995/5995 - 504s - loss: 5.2332 - accuracy: 0.1800\n",
      "Epoch 4/25\n",
      "5995/5995 - 535s - loss: 4.6337 - accuracy: 0.2507\n",
      "Epoch 5/25\n",
      "5995/5995 - 544s - loss: 4.1366 - accuracy: 0.3041\n",
      "Epoch 6/25\n",
      "5995/5995 - 569s - loss: 3.6917 - accuracy: 0.3505\n",
      "Epoch 7/25\n",
      "5995/5995 - 557s - loss: 3.2803 - accuracy: 0.3954\n",
      "Epoch 8/25\n",
      "5995/5995 - 576s - loss: 2.9096 - accuracy: 0.4393\n",
      "Epoch 9/25\n",
      "5995/5995 - 521s - loss: 2.5757 - accuracy: 0.4861\n",
      "Epoch 10/25\n",
      "5995/5995 - 535s - loss: 2.2943 - accuracy: 0.5276\n",
      "Epoch 11/25\n",
      "5995/5995 - 563s - loss: 2.0548 - accuracy: 0.5644\n",
      "Epoch 12/25\n",
      "5995/5995 - 571s - loss: 1.8459 - accuracy: 0.5988\n",
      "Epoch 13/25\n",
      "5995/5995 - 572s - loss: 1.6725 - accuracy: 0.6300\n",
      "Epoch 14/25\n",
      "5995/5995 - 540s - loss: 1.5185 - accuracy: 0.6570\n",
      "Epoch 15/25\n",
      "5995/5995 - 541s - loss: 1.3862 - accuracy: 0.6815\n",
      "Epoch 16/25\n",
      "5995/5995 - 565s - loss: 1.2705 - accuracy: 0.7029\n",
      "Epoch 17/25\n",
      "5995/5995 - 575s - loss: 1.1647 - accuracy: 0.7244\n",
      "Epoch 18/25\n",
      "5995/5995 - 611s - loss: 1.0806 - accuracy: 0.7406\n",
      "Epoch 19/25\n",
      "5995/5995 - 604s - loss: 0.9994 - accuracy: 0.7566\n",
      "Epoch 20/25\n",
      "5995/5995 - 596s - loss: 0.9301 - accuracy: 0.7706\n",
      "Epoch 21/25\n",
      "5995/5995 - 581s - loss: 0.8675 - accuracy: 0.7843\n",
      "Epoch 22/25\n",
      "5995/5995 - 600s - loss: 0.8147 - accuracy: 0.7941\n",
      "Epoch 23/25\n",
      "5995/5995 - 606s - loss: 0.7622 - accuracy: 0.8044\n",
      "Epoch 24/25\n",
      "5995/5995 - 618s - loss: 0.7200 - accuracy: 0.8157\n",
      "Epoch 25/25\n",
      "5995/5995 - 578s - loss: 0.6839 - accuracy: 0.8221\n"
     ]
    }
   ],
   "source": [
    "history = lstm.fit(X, y, epochs=epochs, batch_size=batch_size, verbose=verbose)"
   ]
  },
  {
   "cell_type": "markdown",
   "id": "dad6aef5",
   "metadata": {},
   "source": [
    "Plot of loss and accuracy"
   ]
  },
  {
   "cell_type": "code",
   "execution_count": 20,
   "id": "32429135",
   "metadata": {},
   "outputs": [
    {
     "data": {
      "image/png": "[encoded data removed]",
      "text/plain": [
       "<Figure size 720x576 with 2 Axes>"
      ]
     },
     "metadata": {
      "needs_background": "light"
     },
     "output_type": "display_data"
    }
   ],
   "source": [
    "fig, axs = plt.subplots(2, 1, figsize=(10,8))\n",
    "axs[0].plot(history.history['loss'])\n",
    "axs[0].set(xlabel='epochs', ylabel='Loss')\n",
    "axs[1].plot(history.history['accuracy'])\n",
    "axs[1].set(xlabel='epochs', ylabel='Accuracy')\n",
    "plt.show()"
   ]
  },
  {
   "cell_type": "markdown",
   "id": "d9b18570",
   "metadata": {},
   "source": [
    "<b>\n",
    "Bidirectional LSTM model"
   ]
  },
  {
   "cell_type": "code",
   "execution_count": 21,
   "id": "bcf2e0d4",
   "metadata": {},
   "outputs": [],
   "source": [
    "bilstm = BidirectLSTM_model().model"
   ]
  },
  {
   "cell_type": "code",
   "execution_count": 22,
   "id": "f2473a84",
   "metadata": {},
   "outputs": [
    {
     "name": "stdout",
     "output_type": "stream",
     "text": [
      "Model: \"sequential_1\"\n",
      "_________________________________________________________________\n",
      "Layer (type)                 Output Shape              Param #   \n",
      "=================================================================\n",
      "embedding_1 (Embedding)      (None, 29, 128)           2560000   \n",
      "_________________________________________________________________\n",
      "bidirectional (Bidirectional (None, 29, 256)           263168    \n",
      "_________________________________________________________________\n",
      "bidirectional_1 (Bidirection (None, 256)               394240    \n",
      "_________________________________________________________________\n",
      "dense_2 (Dense)              (None, 128)               32896     \n",
      "_________________________________________________________________\n",
      "dense_3 (Dense)              (None, 20000)             2580000   \n",
      "=================================================================\n",
      "Total params: 5,830,304\n",
      "Trainable params: 5,830,304\n",
      "Non-trainable params: 0\n",
      "_________________________________________________________________\n"
     ]
    }
   ],
   "source": [
    "bilstm.summary()"
   ]
  },
  {
   "cell_type": "code",
   "execution_count": 23,
   "id": "1906f2bb",
   "metadata": {},
   "outputs": [],
   "source": [
    "bilstm.compile(loss=CategoricalCrossentropy(), optimizer=Adam(), metrics=['accuracy'])"
   ]
  },
  {
   "cell_type": "code",
   "execution_count": 24,
   "id": "b2054378",
   "metadata": {},
   "outputs": [
    {
     "name": "stdout",
     "output_type": "stream",
     "text": [
      "Epoch 1/25\n",
      "5995/5995 - 855s - loss: 6.5519 - accuracy: 0.0625\n",
      "Epoch 2/25\n",
      "5995/5995 - 915s - loss: 20327.9551 - accuracy: 0.1422\n",
      "Epoch 3/25\n",
      "5995/5995 - 913s - loss: 4.9342 - accuracy: 0.2058\n",
      "Epoch 4/25\n",
      "5995/5995 - 862s - loss: 4.4388 - accuracy: 0.2586\n",
      "Epoch 5/25\n",
      "5995/5995 - 830s - loss: 3.9838 - accuracy: 0.3078\n",
      "Epoch 6/25\n",
      "5995/5995 - 872s - loss: 3.5647 - accuracy: 0.3528\n",
      "Epoch 7/25\n",
      "5995/5995 - 816s - loss: 3.1744 - accuracy: 0.3981\n",
      "Epoch 8/25\n",
      "5995/5995 - 852s - loss: 2.8126 - accuracy: 0.4446\n",
      "Epoch 9/25\n",
      "5995/5995 - 907s - loss: 2.4938 - accuracy: 0.4901\n",
      "Epoch 10/25\n",
      "5995/5995 - 891s - loss: 2.1938 - accuracy: 0.5373\n",
      "Epoch 11/25\n",
      "5995/5995 - 902s - loss: 1.9250 - accuracy: 0.5791\n",
      "Epoch 12/25\n",
      "5995/5995 - 888s - loss: 1.6862 - accuracy: 0.6212\n",
      "Epoch 13/25\n",
      "5995/5995 - 896s - loss: 1.4766 - accuracy: 0.6603\n",
      "Epoch 14/25\n",
      "5995/5995 - 891s - loss: 1.3034 - accuracy: 0.6916\n",
      "Epoch 15/25\n",
      "5995/5995 - 845s - loss: 1.1341 - accuracy: 0.7267\n",
      "Epoch 16/25\n",
      "5995/5995 - 790s - loss: 1.0101 - accuracy: 0.7513\n",
      "Epoch 17/25\n",
      "5995/5995 - 831s - loss: 0.8955 - accuracy: 0.7745\n",
      "Epoch 18/25\n",
      "5995/5995 - 850s - loss: 0.7998 - accuracy: 0.7938\n",
      "Epoch 19/25\n",
      "5995/5995 - 830s - loss: 0.7185 - accuracy: 0.8118\n",
      "Epoch 20/25\n",
      "5995/5995 - 800s - loss: 0.6549 - accuracy: 0.8260\n",
      "Epoch 21/25\n",
      "5995/5995 - 819s - loss: 0.5928 - accuracy: 0.8403\n",
      "Epoch 22/25\n",
      "5995/5995 - 877s - loss: 0.5442 - accuracy: 0.8516\n",
      "Epoch 23/25\n",
      "5995/5995 - 883s - loss: 0.5004 - accuracy: 0.8619\n",
      "Epoch 24/25\n",
      "5995/5995 - 923s - loss: 0.4684 - accuracy: 0.8686\n",
      "Epoch 25/25\n",
      "5995/5995 - 919s - loss: 0.4369 - accuracy: 0.8769\n"
     ]
    }
   ],
   "source": [
    "history = bilstm.fit(X, y, epochs=epochs, batch_size=batch_size, verbose=verbose)"
   ]
  },
  {
   "cell_type": "markdown",
   "id": "c723c3c0",
   "metadata": {},
   "source": [
    "Plot of loss and accuracy"
   ]
  },
  {
   "cell_type": "code",
   "execution_count": 25,
   "id": "c7aa3f6b",
   "metadata": {},
   "outputs": [
    {
     "data": {
      "image/png": "[encoded data removed]",
      "text/plain": [
       "<Figure size 720x576 with 2 Axes>"
      ]
     },
     "metadata": {
      "needs_background": "light"
     },
     "output_type": "display_data"
    }
   ],
   "source": [
    "fig, axs = plt.subplots(2, 1, figsize=(10,8))\n",
    "axs[0].plot(history.history['loss'])\n",
    "axs[0].set(xlabel='epochs', ylabel='Loss')\n",
    "axs[1].plot(history.history['accuracy'])\n",
    "axs[1].set(xlabel='epochs', ylabel='Accuracy')\n",
    "plt.show()"
   ]
  },
  {
   "cell_type": "markdown",
   "id": "2822a2fd",
   "metadata": {},
   "source": [
    "# Text generation"
   ]
  },
  {
   "cell_type": "code",
   "execution_count": 26,
   "id": "77aa4d27",
   "metadata": {},
   "outputs": [],
   "source": [
    "def text_generation(input_text, numberofwords, model, max_length, word_dict):\n",
    "    temp = pd.DataFrame([input_text]).squeeze(axis=0)\n",
    "    temp = clean_doc(temp)\n",
    "    text = temp.tolist()[0]\n",
    "    for _ in range(numberofwords):\n",
    "        seq = tokenizer.texts_to_sequences([text])\n",
    "        doc = pad_sequences(seq, maxlen=max_length, padding='pre')\n",
    "        pred = model.predict_classes(doc, verbose=0)\n",
    "        output_word = word_dict[pred[0]]\n",
    "        text += (\" \" + output_word)\n",
    "    return text"
   ]
  },
  {
   "cell_type": "code",
   "execution_count": 27,
   "id": "5a1b9952",
   "metadata": {},
   "outputs": [],
   "source": [
    "dict = tokenizer.word_index\n",
    "word_dict = {v:k for k,v in dict.items()}"
   ]
  },
  {
   "cell_type": "code",
   "execution_count": 28,
   "id": "fa62c470",
   "metadata": {},
   "outputs": [],
   "source": [
    "text_list = ['My sky is yours', 'Ha ... my true love', 'Oh! My dear', 'Love me do', 'I am a lemon tree']"
   ]
  },
  {
   "cell_type": "code",
   "execution_count": 29,
   "id": "69379da4",
   "metadata": {},
   "outputs": [],
   "source": [
    "def new_text(text_list, numberofwords, model, max_length, word_dict):\n",
    "    newtext_list = []\n",
    "    for text in text_list:\n",
    "        newtext_list.append(text_generation(text, numberofwords, model, max_length, word_dict))\n",
    "    return newtext_list"
   ]
  },
  {
   "cell_type": "code",
   "execution_count": 30,
   "id": "30b146b4",
   "metadata": {},
   "outputs": [
    {
     "name": "stdout",
     "output_type": "stream",
     "text": [
      "WARNING:tensorflow:From C:\\Users\\hotsa\\AppData\\Local\\Temp/ipykernel_9372/853369983.py:8: Sequential.predict_classes (from tensorflow.python.keras.engine.sequential) is deprecated and will be removed after 2021-01-01.\n",
      "Instructions for updating:\n",
      "Please use instead:* `np.argmax(model.predict(x), axis=-1)`,   if your model does multi-class classification   (e.g. if it uses a `softmax` last-layer activation).* `(model.predict(x) > 0.5).astype(\"int32\")`,   if your model does binary classification   (e.g. if it uses a `sigmoid` last-layer activation).\n"
     ]
    }
   ],
   "source": [
    "result = pd.DataFrame(index=text_list)\n",
    "result['LSTM'] = new_text(text_list, 5, lstm, max_length, word_dict)"
   ]
  },
  {
   "cell_type": "code",
   "execution_count": 31,
   "id": "8394e13f",
   "metadata": {},
   "outputs": [],
   "source": [
    "result['Birectional LSTM'] = new_text(text_list, 5, bilstm, max_length, word_dict)"
   ]
  },
  {
   "cell_type": "code",
   "execution_count": 32,
   "id": "07d73111",
   "metadata": {},
   "outputs": [
    {
     "data": {
      "text/html": [
       "<div>\n",
       "<style scoped>\n",
       "    .dataframe tbody tr th:only-of-type {\n",
       "        vertical-align: middle;\n",
       "    }\n",
       "\n",
       "    .dataframe tbody tr th {\n",
       "        vertical-align: top;\n",
       "    }\n",
       "\n",
       "    .dataframe thead th {\n",
       "        text-align: right;\n",
       "    }\n",
       "</style>\n",
       "<table border=\"1\" class=\"dataframe\">\n",
       "  <thead>\n",
       "    <tr style=\"text-align: right;\">\n",
       "      <th></th>\n",
       "      <th>LSTM</th>\n",
       "      <th>Birectional LSTM</th>\n",
       "    </tr>\n",
       "  </thead>\n",
       "  <tbody>\n",
       "    <tr>\n",
       "      <th>My sky is yours</th>\n",
       "      <td>my sky is yours by renan silva y pe</td>\n",
       "      <td>my sky is yours supreme freedom sacrifice supr...</td>\n",
       "    </tr>\n",
       "    <tr>\n",
       "      <th>Ha ... my true love</th>\n",
       "      <td>ha my true love all drought by dandan alice</td>\n",
       "      <td>ha my true love repeat chorus x s instrumental</td>\n",
       "    </tr>\n",
       "    <tr>\n",
       "      <th>Oh! My dear</th>\n",
       "      <td>oh my dear unity nine instrumental x por</td>\n",
       "      <td>oh my dear creature my my my my</td>\n",
       "    </tr>\n",
       "    <tr>\n",
       "      <th>Love me do</th>\n",
       "      <td>love me do not stop it t x</td>\n",
       "      <td>love me do not matter twice forever nice</td>\n",
       "    </tr>\n",
       "    <tr>\n",
       "      <th>I am a lemon tree</th>\n",
       "      <td>i am a lemon tree m monster record beast beast</td>\n",
       "      <td>i am a lemon tree royal rising rising ring ring</td>\n",
       "    </tr>\n",
       "  </tbody>\n",
       "</table>\n",
       "</div>"
      ],
      "text/plain": [
       "                                                               LSTM  \\\n",
       "My sky is yours                 my sky is yours by renan silva y pe   \n",
       "Ha ... my true love     ha my true love all drought by dandan alice   \n",
       "Oh! My dear                oh my dear unity nine instrumental x por   \n",
       "Love me do                               love me do not stop it t x   \n",
       "I am a lemon tree    i am a lemon tree m monster record beast beast   \n",
       "\n",
       "                                                      Birectional LSTM  \n",
       "My sky is yours      my sky is yours supreme freedom sacrifice supr...  \n",
       "Ha ... my true love     ha my true love repeat chorus x s instrumental  \n",
       "Oh! My dear                            oh my dear creature my my my my  \n",
       "Love me do                    love me do not matter twice forever nice  \n",
       "I am a lemon tree      i am a lemon tree royal rising rising ring ring  "
      ]
     },
     "execution_count": 32,
     "metadata": {},
     "output_type": "execute_result"
    }
   ],
   "source": [
    "result"
   ]
  },
  {
   "cell_type": "markdown",
   "id": "fe8009d3",
   "metadata": {},
   "source": [
    "The models can generate the text. However, it is not good enough to use for writing lyrics."
   ]
  },
  {
   "cell_type": "markdown",
   "id": "e94d996b",
   "metadata": {},
   "source": [
    "Reference:\n",
    "    <li> https://www.kaggle.com/code/shivamb/beginners-guide-to-text-generation-using-lstms/notebook\n",
    "    <li> https://machinelearningmastery.com/text-generation-lstm-recurrent-neural-networks-python-keras/\n",
    "    <li> https://www.analyticsvidhya.com/blog/2021/08/text-generation-using-bidirectional-lstm-a-walk-through-in-tensorflow/"
   ]
  }
 ],
 "metadata": {
  "kernelspec": {
   "display_name": "Python 3 (ipykernel)",
   "language": "python",
   "name": "python3"
  },
  "language_info": {
   "codemirror_mode": {
    "name": "ipython",
    "version": 3
   },
   "file_extension": ".py",
   "mimetype": "text/x-python",
   "name": "python",
   "nbconvert_exporter": "python",
   "pygments_lexer": "ipython3",
   "version": "3.7.9"
  }
 },
 "nbformat": 4,
 "nbformat_minor": 5
}
