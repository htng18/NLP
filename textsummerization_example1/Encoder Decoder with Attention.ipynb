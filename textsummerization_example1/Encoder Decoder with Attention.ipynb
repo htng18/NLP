{
 "cells": [
  {
   "cell_type": "markdown",
   "id": "cdd2c4af",
   "metadata": {},
   "source": [
    "# Text summarization using encoder-decoder model with attention"
   ]
  },
  {
   "cell_type": "markdown",
   "id": "4b648226",
   "metadata": {},
   "source": [
    "Dataset: https://www.kaggle.com/datasets/brendanmiles/nyt-news-dataset-20082021\n",
    "\n",
    "We demonstrate an example to summarize the short texts using the encoder-decoder model with an attention layer. We learn the samples from the NYT news dataset and compare the summarization with the titles. We evaluate the performance of the model using Rouge scores."
   ]
  },
  {
   "cell_type": "code",
   "execution_count": 1,
   "id": "87947490",
   "metadata": {},
   "outputs": [],
   "source": [
    "import pandas as pd\n",
    "import numpy as np\n",
    "import tensorflow as tf\n",
    "from tensorflow.keras.preprocessing.text import Tokenizer\n",
    "from tensorflow.keras.preprocessing.sequence import pad_sequences\n",
    "from EncoderDecoderModel import EncoderDecoderAttention\n",
    "from rouge_score import rouge_scorer\n",
    "import matplotlib.pyplot as plt\n",
    "from tqdm import tqdm\n",
    "\n",
    "import warnings\n",
    "warnings.filterwarnings('ignore')"
   ]
  },
  {
   "cell_type": "markdown",
   "id": "188e71aa",
   "metadata": {},
   "source": [
    "Load data"
   ]
  },
  {
   "cell_type": "code",
   "execution_count": 2,
   "id": "c818a5de",
   "metadata": {},
   "outputs": [],
   "source": [
    "train = pd.read_csv('train.csv', index_col=0).dropna()\n",
    "val = pd.read_csv('val.csv', index_col=0).dropna()\n",
    "test = pd.read_csv('test.csv', index_col=0).dropna()"
   ]
  },
  {
   "cell_type": "code",
   "execution_count": 3,
   "id": "84d3ab4b",
   "metadata": {},
   "outputs": [],
   "source": [
    "# Parameters\n",
    "num_words = 30000           # number of words for tokenization\n",
    "max_features = num_words    # input dim for embedding\n",
    "maxlength_txt = 50          # length of input sequence\n",
    "maxlength_sum = 20          # Length of summary\n",
    "embedding_dim = 512         # output dim for embedding\n",
    "num_class = num_words       # output dim of classes"
   ]
  },
  {
   "cell_type": "markdown",
   "id": "d43ca1d7",
   "metadata": {},
   "source": [
    "Tokenize the text"
   ]
  },
  {
   "cell_type": "code",
   "execution_count": 4,
   "id": "7ec3ae7e",
   "metadata": {},
   "outputs": [],
   "source": [
    "def generation_tokenizer(text, num_words, max_length):\n",
    "    tokenizer = Tokenizer(num_words=num_words, lower=False) # tokenize the texts\n",
    "    tokenizer.fit_on_texts(text)\n",
    "    return tokenizer"
   ]
  },
  {
   "cell_type": "code",
   "execution_count": 5,
   "id": "fec26091",
   "metadata": {},
   "outputs": [],
   "source": [
    "def tokenizer_to_seq(text, max_length, tokenizer=None):\n",
    "    docs = tokenizer.texts_to_sequences(text)\n",
    "\n",
    "    seq = pad_sequences(docs, maxlen=max_length, padding='post') # padding the sequences\n",
    "    return seq"
   ]
  },
  {
   "cell_type": "code",
   "execution_count": 6,
   "id": "ade42982",
   "metadata": {},
   "outputs": [],
   "source": [
    "tokenizer_X = generation_tokenizer(train['abstract'].tolist(), num_words, maxlength_txt)\n",
    "\n",
    "train_X = tokenizer_to_seq(train['abstract'].tolist(), maxlength_txt, tokenizer_X)\n",
    "val_X = tokenizer_to_seq(val['abstract'].tolist(), maxlength_txt, tokenizer_X)\n",
    "test_X = tokenizer_to_seq(test['abstract'].tolist(), maxlength_txt, tokenizer_X)"
   ]
  },
  {
   "cell_type": "code",
   "execution_count": 7,
   "id": "0832817e",
   "metadata": {},
   "outputs": [],
   "source": [
    "tokenizer_y = generation_tokenizer(train['title'].tolist(), num_words, maxlength_sum)\n",
    "\n",
    "train_y = tokenizer_to_seq(train['title'].tolist(), maxlength_sum, tokenizer_y)\n",
    "val_y = tokenizer_to_seq(val['title'].tolist(), maxlength_sum, tokenizer_y)\n",
    "test_y = tokenizer_to_seq(test['title'].tolist(), maxlength_sum, tokenizer_y)"
   ]
  },
  {
   "cell_type": "code",
   "execution_count": 8,
   "id": "cdd2e743",
   "metadata": {},
   "outputs": [],
   "source": [
    "index_word_X = tokenizer_X.index_word\n",
    "index_word_y = tokenizer_y.index_word\n",
    "word_index_X = tokenizer_X.word_index\n",
    "word_index_y = tokenizer_y.word_index"
   ]
  },
  {
   "cell_type": "markdown",
   "id": "04cb05f5",
   "metadata": {},
   "source": [
    "# Encoder-decoder with an attention layer"
   ]
  },
  {
   "cell_type": "code",
   "execution_count": 9,
   "id": "0507fa07",
   "metadata": {},
   "outputs": [],
   "source": [
    "#Number of epochs\n",
    "epochs = 15\n",
    "\n",
    "# batch size\n",
    "batch_size = 32\n",
    "\n",
    "# verbose\n",
    "verbose = 1\n",
    "\n",
    "layer_dim = 512"
   ]
  },
  {
   "cell_type": "code",
   "execution_count": 10,
   "id": "c262489c",
   "metadata": {},
   "outputs": [],
   "source": [
    "edattn = EncoderDecoderAttention(max_features, maxlength_txt, maxlength_sum, embedding_dim, num_class, layer_dim)"
   ]
  },
  {
   "cell_type": "code",
   "execution_count": 11,
   "id": "6689462b",
   "metadata": {},
   "outputs": [
    {
     "name": "stdout",
     "output_type": "stream",
     "text": [
      "Model: \"model\"\n",
      "__________________________________________________________________________________________________\n",
      "Layer (type)                    Output Shape         Param #     Connected to                     \n",
      "==================================================================================================\n",
      "input_1 (InputLayer)            [(None, 50)]         0                                            \n",
      "__________________________________________________________________________________________________\n",
      "input_2 (InputLayer)            [(None, None)]       0                                            \n",
      "__________________________________________________________________________________________________\n",
      "embedding (Embedding)           (None, 50, 512)      15360000    input_1[0][0]                    \n",
      "__________________________________________________________________________________________________\n",
      "embedding_1 (Embedding)         (None, None, 512)    15360000    input_2[0][0]                    \n",
      "__________________________________________________________________________________________________\n",
      "lstm (LSTM)                     [(None, 50, 512), (N 2099200     embedding[0][0]                  \n",
      "__________________________________________________________________________________________________\n",
      "lstm_1 (LSTM)                   [(None, None, 512),  2099200     embedding_1[0][0]                \n",
      "                                                                 lstm[0][1]                       \n",
      "                                                                 lstm[0][2]                       \n",
      "__________________________________________________________________________________________________\n",
      "attention (Attention)           (None, None, 512)    0           lstm_1[0][0]                     \n",
      "                                                                 lstm[0][0]                       \n",
      "__________________________________________________________________________________________________\n",
      "concatenate (Concatenate)       (None, None, 1024)   0           lstm_1[0][0]                     \n",
      "                                                                 attention[0][0]                  \n",
      "__________________________________________________________________________________________________\n",
      "time_distributed (TimeDistribut (None, None, 30000)  30750000    concatenate[0][0]                \n",
      "==================================================================================================\n",
      "Total params: 65,668,400\n",
      "Trainable params: 65,668,400\n",
      "Non-trainable params: 0\n",
      "__________________________________________________________________________________________________\n"
     ]
    }
   ],
   "source": [
    "edattn.model.summary()"
   ]
  },
  {
   "cell_type": "code",
   "execution_count": 12,
   "id": "48218e67",
   "metadata": {},
   "outputs": [],
   "source": [
    "validation = ([val_X, val_y[:,:-1]], val_y.reshape(val_y.shape[0],val_y.shape[1],1)[:,1:])"
   ]
  },
  {
   "cell_type": "code",
   "execution_count": 13,
   "id": "e4d514eb",
   "metadata": {},
   "outputs": [
    {
     "name": "stdout",
     "output_type": "stream",
     "text": [
      "Train on 90563 samples, validate on 5297 samples\n",
      "Epoch 1/15\n",
      "90563/90563 [==============================] - 1119s 12ms/sample - loss: 3.1288 - accuracy: 0.5856 - val_loss: 3.3685 - val_accuracy: 0.5896\n",
      "Epoch 2/15\n",
      "90563/90563 [==============================] - 1132s 12ms/sample - loss: 2.8110 - accuracy: 0.6145 - val_loss: 3.2426 - val_accuracy: 0.5965\n",
      "Epoch 3/15\n",
      "90563/90563 [==============================] - 1132s 12ms/sample - loss: 2.6747 - accuracy: 0.6273 - val_loss: 3.2073 - val_accuracy: 0.6001\n",
      "Epoch 4/15\n",
      "90563/90563 [==============================] - 1144s 13ms/sample - loss: 2.5900 - accuracy: 0.6370 - val_loss: 3.2149 - val_accuracy: 0.6022\n",
      "Epoch 5/15\n",
      "90563/90563 [==============================] - 1160s 13ms/sample - loss: 2.5294 - accuracy: 0.6455 - val_loss: 3.2792 - val_accuracy: 0.6016\n",
      "Epoch 6/15\n",
      "90563/90563 [==============================] - 1161s 13ms/sample - loss: 2.4943 - accuracy: 0.6525 - val_loss: 3.3261 - val_accuracy: 0.6042\n",
      "Epoch 7/15\n",
      "90563/90563 [==============================] - 1157s 13ms/sample - loss: 2.4836 - accuracy: 0.6575 - val_loss: 3.4190 - val_accuracy: 0.5978\n",
      "Epoch 8/15\n",
      "90563/90563 [==============================] - 1157s 13ms/sample - loss: 2.4723 - accuracy: 0.6597 - val_loss: 3.2426 - val_accuracy: 0.6019\n",
      "Epoch 9/15\n",
      "90563/90563 [==============================] - 1158s 13ms/sample - loss: 2.4304 - accuracy: 0.6623 - val_loss: 3.3747 - val_accuracy: 0.6019\n",
      "Epoch 10/15\n",
      "90563/90563 [==============================] - 1160s 13ms/sample - loss: 2.3596 - accuracy: 0.6677 - val_loss: 3.3860 - val_accuracy: 0.5981\n",
      "Epoch 11/15\n",
      "90563/90563 [==============================] - 1162s 13ms/sample - loss: 2.2773 - accuracy: 0.6752 - val_loss: 3.3963 - val_accuracy: 0.5985\n",
      "Epoch 12/15\n",
      "90563/90563 [==============================] - 1164s 13ms/sample - loss: 2.1904 - accuracy: 0.6830 - val_loss: 3.3534 - val_accuracy: 0.5968\n",
      "Epoch 13/15\n",
      "90563/90563 [==============================] - 1161s 13ms/sample - loss: 2.0998 - accuracy: 0.6914 - val_loss: 3.5018 - val_accuracy: 0.5989\n",
      "Epoch 14/15\n",
      "90563/90563 [==============================] - 1163s 13ms/sample - loss: 2.0122 - accuracy: 0.6995 - val_loss: 3.5585 - val_accuracy: 0.5965\n",
      "Epoch 15/15\n",
      "90563/90563 [==============================] - 1163s 13ms/sample - loss: 1.9189 - accuracy: 0.7080 - val_loss: 3.6644 - val_accuracy: 0.5914\n"
     ]
    }
   ],
   "source": [
    "history = edattn.model.fit([train_X, train_y[:,:-1]], train_y.reshape(train_y.shape[0], train_y.shape[1],1)[:,1:], validation_data=validation, epochs=epochs, batch_size=batch_size, verbose=verbose)"
   ]
  },
  {
   "cell_type": "markdown",
   "id": "51a41ca1",
   "metadata": {},
   "source": [
    "Plot of loss verus epoch"
   ]
  },
  {
   "cell_type": "code",
   "execution_count": 14,
   "id": "c889d368",
   "metadata": {},
   "outputs": [
    {
     "data": {
      "text/plain": [
       "<matplotlib.legend.Legend at 0x1881ff6b8c8>"
      ]
     },
     "execution_count": 14,
     "metadata": {},
     "output_type": "execute_result"
    },
    {
     "data": {
      "image/png": "[encoded data removed]",
      "text/plain": [
       "<Figure size 720x432 with 1 Axes>"
      ]
     },
     "metadata": {
      "needs_background": "light"
     },
     "output_type": "display_data"
    }
   ],
   "source": [
    "plt.figure(figsize=(10,6))\n",
    "plt.plot(history.history['loss'])\n",
    "plt.plot(history.history['val_loss'])\n",
    "plt.ylabel('Loss')\n",
    "plt.xlabel('epoch')\n",
    "plt.legend(['train', 'validation'], loc='upper right')"
   ]
  },
  {
   "cell_type": "markdown",
   "id": "8af4c4bb",
   "metadata": {},
   "source": [
    "Plot of accuracy verus epoch"
   ]
  },
  {
   "cell_type": "code",
   "execution_count": 15,
   "id": "2ccb811f",
   "metadata": {},
   "outputs": [
    {
     "data": {
      "text/plain": [
       "<matplotlib.legend.Legend at 0x188203aaf48>"
      ]
     },
     "execution_count": 15,
     "metadata": {},
     "output_type": "execute_result"
    },
    {
     "data": {
      "image/png": "[encoded data removed]",
      "text/plain": [
       "<Figure size 720x432 with 1 Axes>"
      ]
     },
     "metadata": {
      "needs_background": "light"
     },
     "output_type": "display_data"
    }
   ],
   "source": [
    "plt.figure(figsize=(10,6))\n",
    "plt.plot(history.history['accuracy'])\n",
    "plt.plot(history.history['val_accuracy'])\n",
    "plt.ylabel('Accuracy')\n",
    "plt.xlabel('epoch')\n",
    "plt.legend(['train', 'validation'], loc='upper right')"
   ]
  },
  {
   "cell_type": "markdown",
   "id": "3f543ae9",
   "metadata": {},
   "source": [
    "# Text Summarization"
   ]
  },
  {
   "cell_type": "code",
   "execution_count": 16,
   "id": "e7ab468b",
   "metadata": {},
   "outputs": [],
   "source": [
    "def seq2sentence(seq, index_word):\n",
    "    sentence = []\n",
    "    for i in seq:\n",
    "        if i !=0:\n",
    "            sentence.append(index_word[i])\n",
    "    wordlist = sentence[1:-1]\n",
    "    sentence = ' '.join(sentence[1:-1])\n",
    "    return sentence, wordlist"
   ]
  },
  {
   "cell_type": "code",
   "execution_count": 17,
   "id": "961d87d8",
   "metadata": {},
   "outputs": [
    {
     "name": "stdout",
     "output_type": "stream",
     "text": [
      "=============================================================================================================================\n",
      "Sample 0\n",
      "Original text:  resignation of carlos romero who is under investigation for his unexplained wealth is an important step for president andrés manuel lópez obrador in his fight against\n",
      "Original summary:  under scrutiny for wealth powerful bos of mexico oil worker union resigns\n",
      "Generated summary:   argentina official on argentina say corruption inquiry is former president\n",
      "\n",
      "\n",
      "=============================================================================================================================\n",
      "Sample 1\n",
      "Original text:  diplomat were intending to travel to a remote town in the russian arctic where a mysterious nuclear accident killed seven people in august releasing\n",
      "Original summary:  russia stop you s diplomat en route to a nuclear accident site\n",
      "Generated summary:   russian official say they were found dead\n",
      "\n",
      "\n",
      "=============================================================================================================================\n",
      "Sample 2\n",
      "Original text:  klobuchar and pete buttigieg are vying to become the pragmatic alternative to joe biden mr sander is trumpeting endorsement to compete with elizabeth\n",
      "Original summary:  two person race moderate and bernie sander say not so fast\n",
      "Generated summary:   what next for democratic debate\n",
      "\n",
      "\n",
      "=============================================================================================================================\n",
      "Sample 3\n",
      "Original text:  prime minister cited a great new deal that take back control hour after a northern irish party rejected the\n",
      "Original summary:  a brexit deal in hand boris johnson face an uphill struggle in parliament\n",
      "Generated summary:   theresa may lady of brexit deal a few hard line hard liner\n",
      "\n",
      "\n",
      "=============================================================================================================================\n",
      "Sample 4\n",
      "Original text:  local ally of beijing the group most likely to be able to resolve the impasse are divided on a range of issue including the protester demand for full\n",
      "Original summary:  why the protest in hong kong may have no end in sight\n",
      "Generated summary:   china protester plan new strategy\n",
      "\n",
      "\n",
      "=============================================================================================================================\n",
      "Sample 5\n",
      "Original text:  fall which left the president bruised came amid question about his health and recent absence from public\n",
      "Original summary:  duterte is injured in motorcycle accident in philippine\n",
      "Generated summary:   on politics trump say health care is in latest case\n",
      "\n",
      "\n",
      "=============================================================================================================================\n",
      "Sample 6\n",
      "Original text:  for the deal from parliament and northern irish lawmaker is far from\n",
      "Original summary:  key moment a e you leader endorsed a brexit deal with boris johnson\n",
      "Generated summary:   in ireland a lawmaker vote on same sex marriage\n",
      "\n",
      "\n",
      "=============================================================================================================================\n",
      "Sample 7\n",
      "Original text:  american who ran an english language teaching company are being held on charge of organizing illegal border crossing a chinese government spokesman\n",
      "Original summary:  china detains american amid growing scrutiny of foreigner\n",
      "Generated summary:   china arrest activist in east coast\n",
      "\n",
      "\n",
      "=============================================================================================================================\n",
      "Sample 8\n",
      "Original text:  of one episode filmed during disruptive action by the extinction rebellion group illustrated the inflamed passion on both\n",
      "Original summary:  commuter drag climate activist from london train\n",
      "Generated summary:   video of an attack in congo\n",
      "\n",
      "\n",
      "=============================================================================================================================\n",
      "Sample 9\n",
      "Original text:  approval for prime minister boris johnson deal with the european union could rely on lawmaker from northern ireland how can so few wield so much\n",
      "Original summary:  who are the lawmaker who might the brexit deal\n",
      "Generated summary:   brexit irish lawmaker irish leader agrees to brexit talk\n",
      "\n",
      "\n"
     ]
    }
   ],
   "source": [
    "size = test_y.shape[0]\n",
    "size = 10\n",
    "for i in range(0, size):\n",
    "    print(\"\".join(['=']*125))\n",
    "    print(\"Sample {}\".format(i))\n",
    "    sentence_X, _ = seq2sentence(test_X[i], index_word_X)\n",
    "    print('Original text: ', sentence_X)\n",
    "    sentence, wordlist = seq2sentence(test_y[i], index_word_y)\n",
    "    print('Original summary: ', sentence)\n",
    "    input_seq = test_X[i].reshape(1,maxlength_txt)\n",
    "    summary = edattn.summarization(input_seq, word_index_y, index_word_y)\n",
    "    print('Generated summary: ', summary)\n",
    "    print('\\n')"
   ]
  },
  {
   "cell_type": "markdown",
   "id": "73b3e136",
   "metadata": {},
   "source": [
    "From a few samples above, the generated summary cannot fully capture the key message of the original text. They can return some key words in the summary."
   ]
  },
  {
   "cell_type": "markdown",
   "id": "c091683c",
   "metadata": {},
   "source": [
    "# Rouge Score"
   ]
  },
  {
   "cell_type": "code",
   "execution_count": 18,
   "id": "7313aeb8",
   "metadata": {},
   "outputs": [],
   "source": [
    "scorer = rouge_scorer.RougeScorer(['rouge1'])"
   ]
  },
  {
   "cell_type": "code",
   "execution_count": 19,
   "id": "0ee18c1d",
   "metadata": {},
   "outputs": [],
   "source": [
    "def summary_score(orginal_text, orginal_summary, index_word, maxlength_txt):\n",
    "    sentence, wordlist = seq2sentence(orginal_summary, index_word)\n",
    "    input_seq = orginal_text.reshape(1,maxlength_txt)\n",
    "    summary = edattn.summarization(input_seq, word_index_y, index_word)\n",
    "    precision, recall, f1 = scorer.score(sentence, summary)['rouge1']\n",
    "    return precision, recall, f1"
   ]
  },
  {
   "cell_type": "code",
   "execution_count": 20,
   "id": "29ed6e4d",
   "metadata": {},
   "outputs": [
    {
     "name": "stderr",
     "output_type": "stream",
     "text": [
      "                                                                                                                       \r"
     ]
    }
   ],
   "source": [
    "size = test_y.shape[0]\n",
    "precision_score = []\n",
    "recall_score = []\n",
    "f1_score = []\n",
    "for i in tqdm(range(0, size), desc=\"Progress\", leave=False):\n",
    "    precision, recall, f1 = summary_score(test_X[i], test_y[i], index_word_y, maxlength_txt)\n",
    "    #print(i, \"precision: {}, recall: {}, f1: {}\".format(round(precision,2), round(recall,2), round(f1,2)))\n",
    "    precision_score.append(precision)\n",
    "    recall_score.append(recall)\n",
    "    f1_score.append(f1)"
   ]
  },
  {
   "cell_type": "code",
   "execution_count": 21,
   "id": "2cd0a461",
   "metadata": {},
   "outputs": [],
   "source": [
    "performance = pd.DataFrame()\n",
    "performance['Precision'] = precision_score\n",
    "performance['Recall'] = recall_score\n",
    "performance['F1'] = f1_score"
   ]
  },
  {
   "cell_type": "code",
   "execution_count": 22,
   "id": "535aad24",
   "metadata": {},
   "outputs": [
    {
     "data": {
      "text/html": [
       "<div>\n",
       "<style scoped>\n",
       "    .dataframe tbody tr th:only-of-type {\n",
       "        vertical-align: middle;\n",
       "    }\n",
       "\n",
       "    .dataframe tbody tr th {\n",
       "        vertical-align: top;\n",
       "    }\n",
       "\n",
       "    .dataframe thead th {\n",
       "        text-align: right;\n",
       "    }\n",
       "</style>\n",
       "<table border=\"1\" class=\"dataframe\">\n",
       "  <thead>\n",
       "    <tr style=\"text-align: right;\">\n",
       "      <th></th>\n",
       "      <th>Precision</th>\n",
       "      <th>Recall</th>\n",
       "      <th>F1</th>\n",
       "    </tr>\n",
       "  </thead>\n",
       "  <tbody>\n",
       "    <tr>\n",
       "      <th>mean</th>\n",
       "      <td>0.178678</td>\n",
       "      <td>0.140610</td>\n",
       "      <td>0.151703</td>\n",
       "    </tr>\n",
       "    <tr>\n",
       "      <th>std</th>\n",
       "      <td>0.196920</td>\n",
       "      <td>0.144733</td>\n",
       "      <td>0.156712</td>\n",
       "    </tr>\n",
       "    <tr>\n",
       "      <th>max</th>\n",
       "      <td>1.000000</td>\n",
       "      <td>1.000000</td>\n",
       "      <td>1.000000</td>\n",
       "    </tr>\n",
       "  </tbody>\n",
       "</table>\n",
       "</div>"
      ],
      "text/plain": [
       "      Precision    Recall        F1\n",
       "mean   0.178678  0.140610  0.151703\n",
       "std    0.196920  0.144733  0.156712\n",
       "max    1.000000  1.000000  1.000000"
      ]
     },
     "execution_count": 22,
     "metadata": {},
     "output_type": "execute_result"
    }
   ],
   "source": [
    "performance.agg(['mean','std','max'])"
   ]
  },
  {
   "cell_type": "markdown",
   "id": "924f8404",
   "metadata": {},
   "source": [
    "F1 Rouge score is about 0.15. It may be improved by using more data in the training. "
   ]
  },
  {
   "cell_type": "markdown",
   "id": "882e77c5",
   "metadata": {},
   "source": [
    "Reference:\n",
    "<li>\n",
    "https://www.analyticsvidhya.com/blog/2019/06/comprehensive-guide-text-summarization-using-deep-learning-python/\n",
    "<li>\n",
    "https://machinelearningmastery.com/encoder-decoder-models-text-summarization-keras/"
   ]
  }
 ],
 "metadata": {
  "kernelspec": {
   "display_name": "Python 3 (ipykernel)",
   "language": "python",
   "name": "python3"
  },
  "language_info": {
   "codemirror_mode": {
    "name": "ipython",
    "version": 3
   },
   "file_extension": ".py",
   "mimetype": "text/x-python",
   "name": "python",
   "nbconvert_exporter": "python",
   "pygments_lexer": "ipython3",
   "version": "3.7.9"
  }
 },
 "nbformat": 4,
 "nbformat_minor": 5
}
