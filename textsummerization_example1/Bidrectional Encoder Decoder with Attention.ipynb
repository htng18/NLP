{
 "cells": [
  {
   "cell_type": "markdown",
   "id": "cbe947af",
   "metadata": {},
   "source": [
    "# Text summarization using bidirectional encoder-decoder model with attention"
   ]
  },
  {
   "cell_type": "markdown",
   "id": "4b648226",
   "metadata": {},
   "source": [
    "Dataset: https://www.kaggle.com/datasets/brendanmiles/nyt-news-dataset-20082021\n",
    "\n",
    "We demonstrate an example to summarize the short texts using the bidirectional encoder-decoder model with an attention layer, where the bidirectional LSTM layer is used for the encoder. We learn the samples from the NYT news dataset and compare the summarization with the titles. We evaluate the performance of the model using Rouge scores."
   ]
  },
  {
   "cell_type": "code",
   "execution_count": 1,
   "id": "87947490",
   "metadata": {},
   "outputs": [],
   "source": [
    "import pandas as pd\n",
    "import numpy as np\n",
    "import tensorflow as tf\n",
    "from tensorflow.keras.preprocessing.text import Tokenizer\n",
    "from tensorflow.keras.preprocessing.sequence import pad_sequences\n",
    "from EncoderDecoderModel import BidirectEncoderDecoderAttention\n",
    "from rouge_score import rouge_scorer\n",
    "import matplotlib.pyplot as plt\n",
    "from tqdm import tqdm\n",
    "\n",
    "import warnings\n",
    "warnings.filterwarnings('ignore')"
   ]
  },
  {
   "cell_type": "markdown",
   "id": "b7de8c05",
   "metadata": {},
   "source": [
    "Load data"
   ]
  },
  {
   "cell_type": "code",
   "execution_count": 2,
   "id": "c818a5de",
   "metadata": {},
   "outputs": [],
   "source": [
    "train = pd.read_csv('train.csv', index_col=0).dropna()\n",
    "val = pd.read_csv('val.csv', index_col=0).dropna()\n",
    "test = pd.read_csv('test.csv', index_col=0).dropna()"
   ]
  },
  {
   "cell_type": "code",
   "execution_count": 3,
   "id": "84d3ab4b",
   "metadata": {},
   "outputs": [],
   "source": [
    "# Parameters\n",
    "num_words = 30000           # number of words for tokenization\n",
    "max_features = num_words    # input dim for embedding\n",
    "maxlength_txt = 50          # length of input sequence\n",
    "maxlength_sum = 20          # Length of summary\n",
    "embedding_dim = 512         # output dim for embedding\n",
    "num_class = num_words       # output dim of classes"
   ]
  },
  {
   "cell_type": "markdown",
   "id": "36a21a88",
   "metadata": {},
   "source": [
    "Tokenize the text"
   ]
  },
  {
   "cell_type": "code",
   "execution_count": 4,
   "id": "7ec3ae7e",
   "metadata": {},
   "outputs": [],
   "source": [
    "def generation_tokenizer(text, num_words, max_length):\n",
    "    tokenizer = Tokenizer(num_words=num_words, lower=False) # tokenize the texts\n",
    "    tokenizer.fit_on_texts(text)\n",
    "    return tokenizer"
   ]
  },
  {
   "cell_type": "code",
   "execution_count": 5,
   "id": "fec26091",
   "metadata": {},
   "outputs": [],
   "source": [
    "def tokenizer_to_seq(text, max_length, tokenizer=None):\n",
    "    docs = tokenizer.texts_to_sequences(text)\n",
    "\n",
    "    seq = pad_sequences(docs, maxlen=max_length, padding='post') # padding the sequences\n",
    "    return seq"
   ]
  },
  {
   "cell_type": "code",
   "execution_count": 6,
   "id": "ade42982",
   "metadata": {},
   "outputs": [],
   "source": [
    "tokenizer_X = generation_tokenizer(train['abstract'].tolist(), num_words, maxlength_txt)\n",
    "\n",
    "train_X = tokenizer_to_seq(train['abstract'].tolist(), maxlength_txt, tokenizer_X)\n",
    "val_X = tokenizer_to_seq(val['abstract'].tolist(), maxlength_txt, tokenizer_X)\n",
    "test_X = tokenizer_to_seq(test['abstract'].tolist(), maxlength_txt, tokenizer_X)"
   ]
  },
  {
   "cell_type": "code",
   "execution_count": 7,
   "id": "0832817e",
   "metadata": {},
   "outputs": [],
   "source": [
    "tokenizer_y = generation_tokenizer(train['title'].tolist(), num_words, maxlength_sum)\n",
    "\n",
    "train_y = tokenizer_to_seq(train['title'].tolist(), maxlength_sum, tokenizer_y)\n",
    "val_y = tokenizer_to_seq(val['title'].tolist(), maxlength_sum, tokenizer_y)\n",
    "test_y = tokenizer_to_seq(test['title'].tolist(), maxlength_sum, tokenizer_y)"
   ]
  },
  {
   "cell_type": "code",
   "execution_count": 8,
   "id": "cdd2e743",
   "metadata": {},
   "outputs": [],
   "source": [
    "index_word_X = tokenizer_X.index_word\n",
    "index_word_y = tokenizer_y.index_word\n",
    "word_index_X = tokenizer_X.word_index\n",
    "word_index_y = tokenizer_y.word_index"
   ]
  },
  {
   "cell_type": "markdown",
   "id": "b73a7790",
   "metadata": {},
   "source": [
    "# Encoder-decoder with attention"
   ]
  },
  {
   "cell_type": "code",
   "execution_count": 9,
   "id": "0507fa07",
   "metadata": {},
   "outputs": [],
   "source": [
    "#Number of epochs\n",
    "epochs = 15\n",
    "\n",
    "# batch size\n",
    "batch_size = 32\n",
    "\n",
    "# verbose\n",
    "verbose = 1\n",
    "\n",
    "layer_dim = 512"
   ]
  },
  {
   "cell_type": "code",
   "execution_count": 10,
   "id": "6e9806b7",
   "metadata": {},
   "outputs": [],
   "source": [
    "edattn = BidirectEncoderDecoderAttention(max_features, maxlength_txt, maxlength_sum, embedding_dim, num_class, layer_dim)"
   ]
  },
  {
   "cell_type": "code",
   "execution_count": 11,
   "id": "6689462b",
   "metadata": {},
   "outputs": [
    {
     "name": "stdout",
     "output_type": "stream",
     "text": [
      "Model: \"model\"\n",
      "__________________________________________________________________________________________________\n",
      "Layer (type)                    Output Shape         Param #     Connected to                     \n",
      "==================================================================================================\n",
      "input_1 (InputLayer)            [(None, 50)]         0                                            \n",
      "__________________________________________________________________________________________________\n",
      "embedding (Embedding)           (None, 50, 512)      15360000    input_1[0][0]                    \n",
      "__________________________________________________________________________________________________\n",
      "input_2 (InputLayer)            [(None, None)]       0                                            \n",
      "__________________________________________________________________________________________________\n",
      "bidirectional (Bidirectional)   [(None, 50, 1024), ( 4198400     embedding[0][0]                  \n",
      "__________________________________________________________________________________________________\n",
      "embedding_1 (Embedding)         (None, None, 512)    15360000    input_2[0][0]                    \n",
      "__________________________________________________________________________________________________\n",
      "concatenate (Concatenate)       (None, 1024)         0           bidirectional[0][1]              \n",
      "                                                                 bidirectional[0][3]              \n",
      "__________________________________________________________________________________________________\n",
      "concatenate_1 (Concatenate)     (None, 1024)         0           bidirectional[0][2]              \n",
      "                                                                 bidirectional[0][4]              \n",
      "__________________________________________________________________________________________________\n",
      "lstm_1 (LSTM)                   [(None, None, 1024), 6295552     embedding_1[0][0]                \n",
      "                                                                 concatenate[0][0]                \n",
      "                                                                 concatenate_1[0][0]              \n",
      "__________________________________________________________________________________________________\n",
      "attention (Attention)           (None, None, 1024)   0           lstm_1[0][0]                     \n",
      "                                                                 bidirectional[0][0]              \n",
      "__________________________________________________________________________________________________\n",
      "concatenate_2 (Concatenate)     (None, None, 2048)   0           lstm_1[0][0]                     \n",
      "                                                                 attention[0][0]                  \n",
      "__________________________________________________________________________________________________\n",
      "time_distributed (TimeDistribut (None, None, 30000)  61470000    concatenate_2[0][0]              \n",
      "==================================================================================================\n",
      "Total params: 102,683,952\n",
      "Trainable params: 102,683,952\n",
      "Non-trainable params: 0\n",
      "__________________________________________________________________________________________________\n"
     ]
    }
   ],
   "source": [
    "edattn.model.summary()"
   ]
  },
  {
   "cell_type": "code",
   "execution_count": 12,
   "id": "48218e67",
   "metadata": {},
   "outputs": [],
   "source": [
    "validation = ([val_X, val_y[:,:-1]], val_y.reshape(val_y.shape[0],val_y.shape[1],1)[:,1:])"
   ]
  },
  {
   "cell_type": "code",
   "execution_count": 13,
   "id": "e4d514eb",
   "metadata": {},
   "outputs": [
    {
     "name": "stdout",
     "output_type": "stream",
     "text": [
      "Train on 90563 samples, validate on 5297 samples\n",
      "Epoch 1/15\n",
      "90563/90563 [==============================] - 1077s 12ms/sample - loss: 3.0854 - accuracy: 0.5898 - val_loss: 3.3082 - val_accuracy: 0.5905\n",
      "Epoch 2/15\n",
      "90563/90563 [==============================] - 1090s 12ms/sample - loss: 2.7520 - accuracy: 0.6202 - val_loss: 3.1590 - val_accuracy: 0.5987\n",
      "Epoch 3/15\n",
      "90563/90563 [==============================] - 1084s 12ms/sample - loss: 2.6000 - accuracy: 0.6347 - val_loss: 3.1682 - val_accuracy: 0.5990\n",
      "Epoch 4/15\n",
      "90563/90563 [==============================] - 1082s 12ms/sample - loss: 2.4817 - accuracy: 0.6481 - val_loss: 3.2156 - val_accuracy: 0.6072\n",
      "Epoch 5/15\n",
      "90563/90563 [==============================] - 1091s 12ms/sample - loss: 2.3927 - accuracy: 0.6618 - val_loss: 3.3185 - val_accuracy: 0.5963\n",
      "Epoch 6/15\n",
      "90563/90563 [==============================] - 1095s 12ms/sample - loss: 2.3441 - accuracy: 0.6732 - val_loss: 3.3742 - val_accuracy: 0.5924\n",
      "Epoch 7/15\n",
      "90563/90563 [==============================] - 1095s 12ms/sample - loss: 2.3156 - accuracy: 0.6792 - val_loss: 3.3948 - val_accuracy: 0.6018\n",
      "Epoch 8/15\n",
      "90563/90563 [==============================] - 1093s 12ms/sample - loss: 2.2598 - accuracy: 0.6854 - val_loss: 3.4455 - val_accuracy: 0.5973\n",
      "Epoch 9/15\n",
      "90563/90563 [==============================] - 1589s 18ms/sample - loss: 2.1857 - accuracy: 0.6916 - val_loss: 3.4841 - val_accuracy: 0.5933\n",
      "Epoch 10/15\n",
      "90563/90563 [==============================] - 2268s 25ms/sample - loss: 2.0839 - accuracy: 0.7007 - val_loss: 3.5269 - val_accuracy: 0.6040\n",
      "Epoch 11/15\n",
      "90563/90563 [==============================] - 1825s 20ms/sample - loss: 1.9762 - accuracy: 0.7101 - val_loss: 3.5087 - val_accuracy: 0.5890\n",
      "Epoch 12/15\n",
      "90563/90563 [==============================] - 1827s 20ms/sample - loss: 1.8659 - accuracy: 0.7203 - val_loss: 3.7006 - val_accuracy: 0.5842\n",
      "Epoch 13/15\n",
      "90563/90563 [==============================] - 1831s 20ms/sample - loss: 1.7426 - accuracy: 0.7313 - val_loss: 3.7946 - val_accuracy: 0.5935\n",
      "Epoch 14/15\n",
      "90563/90563 [==============================] - 1846s 20ms/sample - loss: 1.6207 - accuracy: 0.7423 - val_loss: 3.8757 - val_accuracy: 0.5834\n",
      "Epoch 15/15\n",
      "90563/90563 [==============================] - 1846s 20ms/sample - loss: 1.5129 - accuracy: 0.7529 - val_loss: 3.9130 - val_accuracy: 0.5822\n"
     ]
    }
   ],
   "source": [
    "history = edattn.model.fit([train_X, train_y[:,:-1]], train_y.reshape(train_y.shape[0], train_y.shape[1],1)[:,1:], validation_data=validation, epochs=epochs, batch_size=batch_size, verbose=verbose)"
   ]
  },
  {
   "cell_type": "markdown",
   "id": "738cfa39",
   "metadata": {},
   "source": [
    "Plot of loss versus epoch"
   ]
  },
  {
   "cell_type": "code",
   "execution_count": 14,
   "id": "81e2db28",
   "metadata": {},
   "outputs": [
    {
     "data": {
      "text/plain": [
       "<matplotlib.legend.Legend at 0x1da9e77a8c8>"
      ]
     },
     "execution_count": 14,
     "metadata": {},
     "output_type": "execute_result"
    },
    {
     "data": {
      "image/png": "[encoded data removed]",
      "text/plain": [
       "<Figure size 720x432 with 1 Axes>"
      ]
     },
     "metadata": {
      "needs_background": "light"
     },
     "output_type": "display_data"
    }
   ],
   "source": [
    "plt.figure(figsize=(10,6))\n",
    "plt.plot(history.history['loss'])\n",
    "plt.plot(history.history['val_loss'])\n",
    "plt.ylabel('Loss')\n",
    "plt.xlabel('epoch')\n",
    "plt.legend(['train', 'validation'], loc='upper right')"
   ]
  },
  {
   "cell_type": "markdown",
   "id": "745e8d78",
   "metadata": {},
   "source": [
    "Plot of accuracy versus epoch"
   ]
  },
  {
   "cell_type": "code",
   "execution_count": 15,
   "id": "a6220533",
   "metadata": {},
   "outputs": [
    {
     "data": {
      "text/plain": [
       "<matplotlib.legend.Legend at 0x1da9ea725c8>"
      ]
     },
     "execution_count": 15,
     "metadata": {},
     "output_type": "execute_result"
    },
    {
     "data": {
      "image/png": "[encoded data removed]",
      "text/plain": [
       "<Figure size 720x432 with 1 Axes>"
      ]
     },
     "metadata": {
      "needs_background": "light"
     },
     "output_type": "display_data"
    }
   ],
   "source": [
    "plt.figure(figsize=(10,6))\n",
    "plt.plot(history.history['accuracy'])\n",
    "plt.plot(history.history['val_accuracy'])\n",
    "plt.ylabel('Accuracy')\n",
    "plt.xlabel('epoch')\n",
    "plt.legend(['train', 'validation'], loc='upper right')"
   ]
  },
  {
   "cell_type": "markdown",
   "id": "89496cc8",
   "metadata": {},
   "source": [
    "# Text Summarization"
   ]
  },
  {
   "cell_type": "code",
   "execution_count": 16,
   "id": "e7ab468b",
   "metadata": {},
   "outputs": [],
   "source": [
    "def seq2sentence(seq, index_word):\n",
    "    sentence = []\n",
    "    for i in seq:\n",
    "        if i !=0:\n",
    "            sentence.append(index_word[i])\n",
    "    wordlist = sentence[1:-1]\n",
    "    sentence = ' '.join(sentence[1:-1])\n",
    "    return sentence, wordlist"
   ]
  },
  {
   "cell_type": "code",
   "execution_count": 17,
   "id": "961d87d8",
   "metadata": {},
   "outputs": [
    {
     "name": "stdout",
     "output_type": "stream",
     "text": [
      "=============================================================================================================================\n",
      "Sample 0\n",
      "Original text:  resignation of carlos romero who is under investigation for his unexplained wealth is an important step for president andrés manuel lópez obrador in his fight against\n",
      "Original summary:  under scrutiny for wealth powerful bos of mexico oil worker union resigns\n",
      "Generated summary:   mexico new look former mexican politician accused of corruption\n",
      "\n",
      "\n",
      "=============================================================================================================================\n",
      "Sample 1\n",
      "Original text:  diplomat were intending to travel to a remote town in the russian arctic where a mysterious nuclear accident killed seven people in august releasing\n",
      "Original summary:  russia stop you s diplomat en route to a nuclear accident site\n",
      "Generated summary:   japan sends afghan signal to save a third shiite pilgrim in new york\n",
      "\n",
      "\n",
      "=============================================================================================================================\n",
      "Sample 2\n",
      "Original text:  klobuchar and pete buttigieg are vying to become the pragmatic alternative to joe biden mr sander is trumpeting endorsement to compete with elizabeth\n",
      "Original summary:  two person race moderate and bernie sander say not so fast\n",
      "Generated summary:   bernie sander and o about raising support in ground war on using gay marriage\n",
      "\n",
      "\n",
      "=============================================================================================================================\n",
      "Sample 3\n",
      "Original text:  prime minister cited a great new deal that take back control hour after a northern irish party rejected the\n",
      "Original summary:  a brexit deal in hand boris johnson face an uphill struggle in parliament\n",
      "Generated summary:   you k back down deal to join conservative right wing driver\n",
      "\n",
      "\n",
      "=============================================================================================================================\n",
      "Sample 4\n",
      "Original text:  local ally of beijing the group most likely to be able to resolve the impasse are divided on a range of issue including the protester demand for full\n",
      "Original summary:  why the protest in hong kong may have no end in sight\n",
      "Generated summary:   in beijing kerry call for a new push for beijing\n",
      "\n",
      "\n",
      "=============================================================================================================================\n",
      "Sample 5\n",
      "Original text:  fall which left the president bruised came amid question about his health and recent absence from public\n",
      "Original summary:  duterte is injured in motorcycle accident in philippine\n",
      "Generated summary:   trump latest health agency and arabia meet\n",
      "\n",
      "\n",
      "=============================================================================================================================\n",
      "Sample 6\n",
      "Original text:  for the deal from parliament and northern irish lawmaker is far from\n",
      "Original summary:  key moment a e you leader endorsed a brexit deal with boris johnson\n",
      "Generated summary:   vote bus crash in brexit\n",
      "\n",
      "\n",
      "=============================================================================================================================\n",
      "Sample 7\n",
      "Original text:  american who ran an english language teaching company are being held on charge of organizing illegal border crossing a chinese government spokesman\n",
      "Original summary:  china detains american amid growing scrutiny of foreigner\n",
      "Generated summary:   american held in china is said to have no deal\n",
      "\n",
      "\n",
      "=============================================================================================================================\n",
      "Sample 8\n",
      "Original text:  of one episode filmed during disruptive action by the extinction rebellion group illustrated the inflamed passion on both\n",
      "Original summary:  commuter drag climate activist from london train\n",
      "Generated summary:   conflict of african thai region grows with many are left in the hand\n",
      "\n",
      "\n",
      "=============================================================================================================================\n",
      "Sample 9\n",
      "Original text:  approval for prime minister boris johnson deal with the european union could rely on lawmaker from northern ireland how can so few wield so much\n",
      "Original summary:  who are the lawmaker who might the brexit deal\n",
      "Generated summary:   brexit deal would be a brexit deal brexit break\n",
      "\n",
      "\n"
     ]
    }
   ],
   "source": [
    "size = test_y.shape[0]\n",
    "size = 10\n",
    "for i in range(0, size):\n",
    "    print(\"\".join(['=']*125))\n",
    "    print(\"Sample {}\".format(i))\n",
    "    sentence_X, _ = seq2sentence(test_X[i], index_word_X)\n",
    "    print('Original text: ', sentence_X)\n",
    "    sentence, wordlist = seq2sentence(test_y[i], index_word_y)\n",
    "    print('Original summary: ', sentence)\n",
    "    input_seq = test_X[i].reshape(1,maxlength_txt)\n",
    "    summary = edattn.summarization(input_seq, word_index_y, index_word_y)\n",
    "    print('Generated summary: ', summary)\n",
    "    print('\\n')"
   ]
  },
  {
   "cell_type": "markdown",
   "id": "476dbd5d",
   "metadata": {},
   "source": [
    "# Rouge Score"
   ]
  },
  {
   "cell_type": "code",
   "execution_count": 18,
   "id": "7313aeb8",
   "metadata": {},
   "outputs": [],
   "source": [
    "scorer = rouge_scorer.RougeScorer(['rouge1'])"
   ]
  },
  {
   "cell_type": "code",
   "execution_count": 19,
   "id": "957984f0",
   "metadata": {},
   "outputs": [],
   "source": [
    "def summary_score(orginal_text, orginal_summary, index_word, maxlength_txt):\n",
    "    sentence, wordlist = seq2sentence(orginal_summary, index_word)\n",
    "    input_seq = orginal_text.reshape(1,maxlength_txt)\n",
    "    summary = edattn.summarization(input_seq, word_index_y, index_word)\n",
    "    precision, recall, f1 = scorer.score(sentence, summary)['rouge1']\n",
    "    return precision, recall, f1"
   ]
  },
  {
   "cell_type": "code",
   "execution_count": 20,
   "id": "adfb1142",
   "metadata": {},
   "outputs": [
    {
     "name": "stderr",
     "output_type": "stream",
     "text": [
      "                                                                                                                       \r"
     ]
    }
   ],
   "source": [
    "size = test_y.shape[0]\n",
    "precision_score = []\n",
    "recall_score = []\n",
    "f1_score = []\n",
    "for i in tqdm(range(0, size), desc=\"Progress\", leave=False):\n",
    "    precision, recall, f1 = summary_score(test_X[i], test_y[i], index_word_y, maxlength_txt)\n",
    "    #print(i, \"precision: {}, recall: {}, f1: {}\".format(round(precision,2), round(recall,2), round(f1,2)))\n",
    "    precision_score.append(precision)\n",
    "    recall_score.append(recall)\n",
    "    f1_score.append(f1)"
   ]
  },
  {
   "cell_type": "code",
   "execution_count": 21,
   "id": "efca9288",
   "metadata": {},
   "outputs": [],
   "source": [
    "performance = pd.DataFrame()\n",
    "performance['Precision'] = precision_score\n",
    "performance['Recall'] = recall_score\n",
    "performance['F1'] = f1_score"
   ]
  },
  {
   "cell_type": "code",
   "execution_count": 22,
   "id": "cde5d4df",
   "metadata": {},
   "outputs": [
    {
     "data": {
      "text/html": [
       "<div>\n",
       "<style scoped>\n",
       "    .dataframe tbody tr th:only-of-type {\n",
       "        vertical-align: middle;\n",
       "    }\n",
       "\n",
       "    .dataframe tbody tr th {\n",
       "        vertical-align: top;\n",
       "    }\n",
       "\n",
       "    .dataframe thead th {\n",
       "        text-align: right;\n",
       "    }\n",
       "</style>\n",
       "<table border=\"1\" class=\"dataframe\">\n",
       "  <thead>\n",
       "    <tr style=\"text-align: right;\">\n",
       "      <th></th>\n",
       "      <th>Precision</th>\n",
       "      <th>Recall</th>\n",
       "      <th>F1</th>\n",
       "    </tr>\n",
       "  </thead>\n",
       "  <tbody>\n",
       "    <tr>\n",
       "      <th>mean</th>\n",
       "      <td>0.164819</td>\n",
       "      <td>0.134304</td>\n",
       "      <td>0.141719</td>\n",
       "    </tr>\n",
       "    <tr>\n",
       "      <th>std</th>\n",
       "      <td>0.203485</td>\n",
       "      <td>0.143498</td>\n",
       "      <td>0.157053</td>\n",
       "    </tr>\n",
       "    <tr>\n",
       "      <th>max</th>\n",
       "      <td>1.000000</td>\n",
       "      <td>1.000000</td>\n",
       "      <td>1.000000</td>\n",
       "    </tr>\n",
       "  </tbody>\n",
       "</table>\n",
       "</div>"
      ],
      "text/plain": [
       "      Precision    Recall        F1\n",
       "mean   0.164819  0.134304  0.141719\n",
       "std    0.203485  0.143498  0.157053\n",
       "max    1.000000  1.000000  1.000000"
      ]
     },
     "execution_count": 22,
     "metadata": {},
     "output_type": "execute_result"
    }
   ],
   "source": [
    "performance.agg(['mean','std','max'])"
   ]
  },
  {
   "cell_type": "markdown",
   "id": "fdf82a6d",
   "metadata": {},
   "source": [
    "F1 Rouge score is slightly lower than the result using the LSTM encoder in the previous example."
   ]
  }
 ],
 "metadata": {
  "kernelspec": {
   "display_name": "Python 3 (ipykernel)",
   "language": "python",
   "name": "python3"
  },
  "language_info": {
   "codemirror_mode": {
    "name": "ipython",
    "version": 3
   },
   "file_extension": ".py",
   "mimetype": "text/x-python",
   "name": "python",
   "nbconvert_exporter": "python",
   "pygments_lexer": "ipython3",
   "version": "3.7.9"
  }
 },
 "nbformat": 4,
 "nbformat_minor": 5
}
