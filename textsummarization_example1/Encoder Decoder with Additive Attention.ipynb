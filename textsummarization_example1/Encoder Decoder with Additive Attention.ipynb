{
 "cells": [
  {
   "cell_type": "markdown",
   "id": "33d0842d",
   "metadata": {},
   "source": [
    "# Text summarization using encoder-decoder model with additive attention"
   ]
  },
  {
   "cell_type": "markdown",
   "id": "4b648226",
   "metadata": {},
   "source": [
    "https://www.kaggle.com/datasets/brendanmiles/nyt-news-dataset-20082021\n",
    "\n",
    "We demonstrate an example to summarize the short texts using the encoder-decoder model with an additive attention layer. We learn the samples from the NYT news dataset and compare the summarization with the titles. We evaluate the performance of the model using Rouge scores."
   ]
  },
  {
   "cell_type": "code",
   "execution_count": 1,
   "id": "87947490",
   "metadata": {},
   "outputs": [],
   "source": [
    "import pandas as pd\n",
    "import numpy as np\n",
    "import tensorflow as tf\n",
    "from tensorflow.keras.preprocessing.text import Tokenizer\n",
    "from tensorflow.keras.preprocessing.sequence import pad_sequences\n",
    "from EncoderDecoderModel import EncoderDecoderAdditiveAttention\n",
    "from rouge_score import rouge_scorer\n",
    "import matplotlib.pyplot as plt\n",
    "from tqdm import tqdm\n",
    "\n",
    "import warnings\n",
    "warnings.filterwarnings('ignore')"
   ]
  },
  {
   "cell_type": "markdown",
   "id": "b7de8c05",
   "metadata": {},
   "source": [
    "Load data"
   ]
  },
  {
   "cell_type": "code",
   "execution_count": 2,
   "id": "c818a5de",
   "metadata": {},
   "outputs": [],
   "source": [
    "train = pd.read_csv('train.csv', index_col=0).dropna()\n",
    "val = pd.read_csv('val.csv', index_col=0).dropna()\n",
    "test = pd.read_csv('test.csv', index_col=0).dropna()"
   ]
  },
  {
   "cell_type": "code",
   "execution_count": 3,
   "id": "84d3ab4b",
   "metadata": {},
   "outputs": [],
   "source": [
    "# Parameters\n",
    "num_words = 30000           # number of words for tokenization\n",
    "max_features = num_words    # input dim for embedding\n",
    "maxlength_txt = 50          # length of input sequence\n",
    "maxlength_sum = 20          # Length of summary\n",
    "embedding_dim = 512         # output dim for embedding\n",
    "num_class = num_words       # output dim of classes"
   ]
  },
  {
   "cell_type": "markdown",
   "id": "a9ae805d",
   "metadata": {},
   "source": [
    "Tokenize the text"
   ]
  },
  {
   "cell_type": "code",
   "execution_count": 4,
   "id": "7ec3ae7e",
   "metadata": {},
   "outputs": [],
   "source": [
    "def generation_tokenizer(text, num_words, max_length):\n",
    "    tokenizer = Tokenizer(num_words=num_words, lower=False) # tokenize the texts\n",
    "    tokenizer.fit_on_texts(text)\n",
    "    return tokenizer"
   ]
  },
  {
   "cell_type": "code",
   "execution_count": 5,
   "id": "fec26091",
   "metadata": {},
   "outputs": [],
   "source": [
    "def tokenizer_to_seq(text, max_length, tokenizer=None):\n",
    "    docs = tokenizer.texts_to_sequences(text)\n",
    "\n",
    "    seq = pad_sequences(docs, maxlen=max_length, padding='post') # padding the sequences\n",
    "    return seq"
   ]
  },
  {
   "cell_type": "code",
   "execution_count": 6,
   "id": "ade42982",
   "metadata": {},
   "outputs": [],
   "source": [
    "tokenizer_X = generation_tokenizer(train['abstract'].tolist(), num_words, maxlength_txt)\n",
    "\n",
    "train_X = tokenizer_to_seq(train['abstract'].tolist(), maxlength_txt, tokenizer_X)\n",
    "val_X = tokenizer_to_seq(val['abstract'].tolist(), maxlength_txt, tokenizer_X)\n",
    "test_X = tokenizer_to_seq(test['abstract'].tolist(), maxlength_txt, tokenizer_X)"
   ]
  },
  {
   "cell_type": "code",
   "execution_count": 7,
   "id": "0832817e",
   "metadata": {},
   "outputs": [],
   "source": [
    "tokenizer_y = generation_tokenizer(train['title'].tolist(), num_words, maxlength_sum)\n",
    "\n",
    "train_y = tokenizer_to_seq(train['title'].tolist(), maxlength_sum, tokenizer_y)\n",
    "val_y = tokenizer_to_seq(val['title'].tolist(), maxlength_sum, tokenizer_y)\n",
    "test_y = tokenizer_to_seq(test['title'].tolist(), maxlength_sum, tokenizer_y)"
   ]
  },
  {
   "cell_type": "code",
   "execution_count": 8,
   "id": "cdd2e743",
   "metadata": {},
   "outputs": [],
   "source": [
    "index_word_X = tokenizer_X.index_word\n",
    "index_word_y = tokenizer_y.index_word\n",
    "word_index_X = tokenizer_X.word_index\n",
    "word_index_y = tokenizer_y.word_index"
   ]
  },
  {
   "cell_type": "markdown",
   "id": "b73a7790",
   "metadata": {},
   "source": [
    "# Encoder-decoder with an additive attention layer"
   ]
  },
  {
   "cell_type": "code",
   "execution_count": 9,
   "id": "0507fa07",
   "metadata": {},
   "outputs": [],
   "source": [
    "#Number of epochs\n",
    "epochs = 15\n",
    "\n",
    "# batch size\n",
    "batch_size = 32\n",
    "\n",
    "# verbose\n",
    "verbose = 1\n",
    "\n",
    "layer_dim = 512"
   ]
  },
  {
   "cell_type": "code",
   "execution_count": 10,
   "id": "6e9806b7",
   "metadata": {},
   "outputs": [],
   "source": [
    "edattn = EncoderDecoderAdditiveAttention(max_features, maxlength_txt, maxlength_sum, embedding_dim, num_class, layer_dim)"
   ]
  },
  {
   "cell_type": "code",
   "execution_count": 11,
   "id": "6689462b",
   "metadata": {},
   "outputs": [
    {
     "name": "stdout",
     "output_type": "stream",
     "text": [
      "Model: \"model\"\n",
      "__________________________________________________________________________________________________\n",
      "Layer (type)                    Output Shape         Param #     Connected to                     \n",
      "==================================================================================================\n",
      "input_1 (InputLayer)            [(None, 50)]         0                                            \n",
      "__________________________________________________________________________________________________\n",
      "input_2 (InputLayer)            [(None, None)]       0                                            \n",
      "__________________________________________________________________________________________________\n",
      "embedding (Embedding)           (None, 50, 512)      15360000    input_1[0][0]                    \n",
      "__________________________________________________________________________________________________\n",
      "embedding_1 (Embedding)         (None, None, 512)    15360000    input_2[0][0]                    \n",
      "__________________________________________________________________________________________________\n",
      "lstm (LSTM)                     [(None, 50, 512), (N 2099200     embedding[0][0]                  \n",
      "__________________________________________________________________________________________________\n",
      "lstm_1 (LSTM)                   [(None, None, 512),  2099200     embedding_1[0][0]                \n",
      "                                                                 lstm[0][1]                       \n",
      "                                                                 lstm[0][2]                       \n",
      "__________________________________________________________________________________________________\n",
      "additive_attention (AdditiveAtt (None, None, 512)    512         lstm_1[0][0]                     \n",
      "                                                                 lstm[0][0]                       \n",
      "__________________________________________________________________________________________________\n",
      "concatenate (Concatenate)       (None, None, 1024)   0           lstm_1[0][0]                     \n",
      "                                                                 additive_attention[0][0]         \n",
      "__________________________________________________________________________________________________\n",
      "time_distributed (TimeDistribut (None, None, 30000)  30750000    concatenate[0][0]                \n",
      "==================================================================================================\n",
      "Total params: 65,668,912\n",
      "Trainable params: 65,668,912\n",
      "Non-trainable params: 0\n",
      "__________________________________________________________________________________________________\n"
     ]
    }
   ],
   "source": [
    "edattn.model.summary()"
   ]
  },
  {
   "cell_type": "code",
   "execution_count": 12,
   "id": "48218e67",
   "metadata": {},
   "outputs": [],
   "source": [
    "validation = ([val_X, val_y[:,:-1]], val_y.reshape(val_y.shape[0],val_y.shape[1],1)[:,1:])"
   ]
  },
  {
   "cell_type": "code",
   "execution_count": 13,
   "id": "e4d514eb",
   "metadata": {},
   "outputs": [
    {
     "name": "stdout",
     "output_type": "stream",
     "text": [
      "Train on 90563 samples, validate on 5297 samples\n",
      "Epoch 1/15\n",
      "90563/90563 [==============================] - 1235s 14ms/sample - loss: 3.1116 - accuracy: 0.5861 - val_loss: 3.3112 - val_accuracy: 0.5910\n",
      "Epoch 2/15\n",
      "90563/90563 [==============================] - 1251s 14ms/sample - loss: 2.7817 - accuracy: 0.6153 - val_loss: 3.2075 - val_accuracy: 0.5974\n",
      "Epoch 3/15\n",
      "90563/90563 [==============================] - 1252s 14ms/sample - loss: 2.6466 - accuracy: 0.6282 - val_loss: 3.2213 - val_accuracy: 0.6008\n",
      "Epoch 4/15\n",
      "90563/90563 [==============================] - 1262s 14ms/sample - loss: 2.5615 - accuracy: 0.6377 - val_loss: 3.2303 - val_accuracy: 0.5951\n",
      "Epoch 5/15\n",
      "90563/90563 [==============================] - 1265s 14ms/sample - loss: 2.5099 - accuracy: 0.6462 - val_loss: 3.2897 - val_accuracy: 0.5991\n",
      "Epoch 6/15\n",
      "90563/90563 [==============================] - 1273s 14ms/sample - loss: 2.4804 - accuracy: 0.6530 - val_loss: 3.3441 - val_accuracy: 0.6038\n",
      "Epoch 7/15\n",
      "90563/90563 [==============================] - 1270s 14ms/sample - loss: 2.4503 - accuracy: 0.6584 - val_loss: 3.4039 - val_accuracy: 0.5885\n",
      "Epoch 8/15\n",
      "90563/90563 [==============================] - 1273s 14ms/sample - loss: 2.4087 - accuracy: 0.6635 - val_loss: 3.5170 - val_accuracy: 0.5998\n",
      "Epoch 9/15\n",
      "90563/90563 [==============================] - 1274s 14ms/sample - loss: 2.3462 - accuracy: 0.6697 - val_loss: 3.5026 - val_accuracy: 0.5923\n",
      "Epoch 10/15\n",
      "90563/90563 [==============================] - 1281s 14ms/sample - loss: 2.2760 - accuracy: 0.6763 - val_loss: 3.5072 - val_accuracy: 0.5853\n",
      "Epoch 11/15\n",
      "90563/90563 [==============================] - 1279s 14ms/sample - loss: 2.2070 - accuracy: 0.6829 - val_loss: 3.5990 - val_accuracy: 0.5860\n",
      "Epoch 12/15\n",
      "90563/90563 [==============================] - 1277s 14ms/sample - loss: 2.1498 - accuracy: 0.6895 - val_loss: 3.6472 - val_accuracy: 0.5778\n",
      "Epoch 13/15\n",
      "90563/90563 [==============================] - 1276s 14ms/sample - loss: 2.0915 - accuracy: 0.6959 - val_loss: 3.7585 - val_accuracy: 0.5813\n",
      "Epoch 14/15\n",
      "90563/90563 [==============================] - 1274s 14ms/sample - loss: 2.0329 - accuracy: 0.7029 - val_loss: 3.7668 - val_accuracy: 0.5867\n",
      "Epoch 15/15\n",
      "90563/90563 [==============================] - 1275s 14ms/sample - loss: 1.9595 - accuracy: 0.7115 - val_loss: 3.8671 - val_accuracy: 0.5778\n"
     ]
    }
   ],
   "source": [
    "history = edattn.model.fit([train_X, train_y[:,:-1]], train_y.reshape(train_y.shape[0], train_y.shape[1],1)[:,1:], validation_data=validation, epochs=epochs, batch_size=batch_size, verbose=verbose)"
   ]
  },
  {
   "cell_type": "markdown",
   "id": "d7f04a53",
   "metadata": {},
   "source": [
    "Plot of loss verus epoch"
   ]
  },
  {
   "cell_type": "code",
   "execution_count": 14,
   "id": "81e2db28",
   "metadata": {},
   "outputs": [
    {
     "data": {
      "text/plain": [
       "<matplotlib.legend.Legend at 0x21b9cbcb2c8>"
      ]
     },
     "execution_count": 14,
     "metadata": {},
     "output_type": "execute_result"
    },
    {
     "data": {
      "image/png": "[encoded data removed]",
      "text/plain": [
       "<Figure size 720x432 with 1 Axes>"
      ]
     },
     "metadata": {
      "needs_background": "light"
     },
     "output_type": "display_data"
    }
   ],
   "source": [
    "plt.figure(figsize=(10,6))\n",
    "plt.plot(history.history['loss'])\n",
    "plt.plot(history.history['val_loss'])\n",
    "plt.ylabel('Loss')\n",
    "plt.xlabel('epoch')\n",
    "plt.legend(['train', 'validation'], loc='upper right')"
   ]
  },
  {
   "cell_type": "markdown",
   "id": "0b2ad4d2",
   "metadata": {},
   "source": [
    "Plot of accuracy verus epoch"
   ]
  },
  {
   "cell_type": "code",
   "execution_count": 15,
   "id": "a6220533",
   "metadata": {},
   "outputs": [
    {
     "data": {
      "text/plain": [
       "<matplotlib.legend.Legend at 0x21b9cec46c8>"
      ]
     },
     "execution_count": 15,
     "metadata": {},
     "output_type": "execute_result"
    },
    {
     "data": {
      "image/png": "[encoded data removed]",
      "text/plain": [
       "<Figure size 720x432 with 1 Axes>"
      ]
     },
     "metadata": {
      "needs_background": "light"
     },
     "output_type": "display_data"
    }
   ],
   "source": [
    "plt.figure(figsize=(10,6))\n",
    "plt.plot(history.history['accuracy'])\n",
    "plt.plot(history.history['val_accuracy'])\n",
    "plt.ylabel('Accuracy')\n",
    "plt.xlabel('epoch')\n",
    "plt.legend(['train', 'validation'], loc='upper right')"
   ]
  },
  {
   "cell_type": "markdown",
   "id": "89496cc8",
   "metadata": {},
   "source": [
    "# Text Summarization"
   ]
  },
  {
   "cell_type": "code",
   "execution_count": 16,
   "id": "e7ab468b",
   "metadata": {},
   "outputs": [],
   "source": [
    "def seq2sentence(seq, index_word):\n",
    "    sentence = []\n",
    "    for i in seq:\n",
    "        if i !=0:\n",
    "            sentence.append(index_word[i])\n",
    "    wordlist = sentence[1:-1]\n",
    "    sentence = ' '.join(sentence[1:-1])\n",
    "    return sentence, wordlist"
   ]
  },
  {
   "cell_type": "code",
   "execution_count": 17,
   "id": "961d87d8",
   "metadata": {},
   "outputs": [
    {
     "name": "stdout",
     "output_type": "stream",
     "text": [
      "=============================================================================================================================\n",
      "Sample 0\n",
      "Original text:  resignation of carlos romero who is under investigation for his unexplained wealth is an important step for president andrés manuel lópez obrador in his fight against\n",
      "Original summary:  under scrutiny for wealth powerful bos of mexico oil worker union resigns\n",
      "Generated summary:   kenya president say he will accept southern a decade after the president can be mostly\n",
      "\n",
      "\n",
      "=============================================================================================================================\n",
      "Sample 1\n",
      "Original text:  diplomat were intending to travel to a remote town in the russian arctic where a mysterious nuclear accident killed seven people in august releasing\n",
      "Original summary:  russia stop you s diplomat en route to a nuclear accident site\n",
      "Generated summary:   score killed in insurgent attack in northern afghanistan\n",
      "\n",
      "\n",
      "=============================================================================================================================\n",
      "Sample 2\n",
      "Original text:  klobuchar and pete buttigieg are vying to become the pragmatic alternative to joe biden mr sander is trumpeting endorsement to compete with elizabeth\n",
      "Original summary:  two person race moderate and bernie sander say not so fast\n",
      "Generated summary:   why we have her top rival others follow\n",
      "\n",
      "\n",
      "=============================================================================================================================\n",
      "Sample 3\n",
      "Original text:  prime minister cited a great new deal that take back control hour after a northern irish party rejected the\n",
      "Original summary:  a brexit deal in hand boris johnson face an uphill struggle in parliament\n",
      "Generated summary:   tunisia move to curb criticism of a citizen linked to terrorism\n",
      "\n",
      "\n",
      "=============================================================================================================================\n",
      "Sample 4\n",
      "Original text:  local ally of beijing the group most likely to be able to resolve the impasse are divided on a range of issue including the protester demand for full\n",
      "Original summary:  why the protest in hong kong may have no end in sight\n",
      "Generated summary:   a rare run by a citizen is arrested in southern china\n",
      "\n",
      "\n",
      "=============================================================================================================================\n",
      "Sample 5\n",
      "Original text:  fall which left the president bruised came amid question about his health and recent absence from public\n",
      "Original summary:  duterte is injured in motorcycle accident in philippine\n",
      "Generated summary:   a rare run by president own the last time in thailand\n",
      "\n",
      "\n",
      "=============================================================================================================================\n",
      "Sample 6\n",
      "Original text:  for the deal from parliament and northern irish lawmaker is far from\n",
      "Original summary:  key moment a e you leader endorsed a brexit deal with boris johnson\n",
      "Generated summary:   cambodia move to curb foreign citizen tried in decade after fatal between chaos and government\n",
      "\n",
      "\n",
      "=============================================================================================================================\n",
      "Sample 7\n",
      "Original text:  american who ran an english language teaching company are being held on charge of organizing illegal border crossing a chinese government spokesman\n",
      "Original summary:  china detains american amid growing scrutiny of foreigner\n",
      "Generated summary:   two more than confidence they die in a standoff with the west\n",
      "\n",
      "\n",
      "=============================================================================================================================\n",
      "Sample 8\n",
      "Original text:  of one episode filmed during disruptive action by the extinction rebellion group illustrated the inflamed passion on both\n",
      "Original summary:  commuter drag climate activist from london train\n",
      "Generated summary:   a new front for cairo a new front line\n",
      "\n",
      "\n",
      "=============================================================================================================================\n",
      "Sample 9\n",
      "Original text:  approval for prime minister boris johnson deal with the european union could rely on lawmaker from northern ireland how can so few wield so much\n",
      "Original summary:  who are the lawmaker who might the brexit deal\n",
      "Generated summary:   a rare step by criticism of egypt blame the west\n",
      "\n",
      "\n"
     ]
    }
   ],
   "source": [
    "size = test_y.shape[0]\n",
    "size = 10\n",
    "for i in range(0, size):\n",
    "    print(\"\".join(['=']*125))\n",
    "    print(\"Sample {}\".format(i))\n",
    "    sentence_X, _ = seq2sentence(test_X[i], index_word_X)\n",
    "    print('Original text: ', sentence_X)\n",
    "    sentence, wordlist = seq2sentence(test_y[i], index_word_y)\n",
    "    print('Original summary: ', sentence)\n",
    "    input_seq = test_X[i].reshape(1,maxlength_txt)\n",
    "    summary = edattn.summarization(input_seq, word_index_y, index_word_y)\n",
    "    print('Generated summary: ', summary)\n",
    "    print('\\n')"
   ]
  },
  {
   "cell_type": "markdown",
   "id": "85a36091",
   "metadata": {},
   "source": [
    "The samples of generated summary do not give a good summary of the original text."
   ]
  },
  {
   "cell_type": "markdown",
   "id": "476dbd5d",
   "metadata": {},
   "source": [
    "# Rouge Score"
   ]
  },
  {
   "cell_type": "code",
   "execution_count": 18,
   "id": "7313aeb8",
   "metadata": {},
   "outputs": [],
   "source": [
    "scorer = rouge_scorer.RougeScorer(['rouge1'])"
   ]
  },
  {
   "cell_type": "code",
   "execution_count": 19,
   "id": "957984f0",
   "metadata": {},
   "outputs": [],
   "source": [
    "def summary_score(orginal_text, orginal_summary, index_word, maxlength_txt):\n",
    "    sentence, wordlist = seq2sentence(orginal_summary, index_word)\n",
    "    input_seq = orginal_text.reshape(1,maxlength_txt)\n",
    "    summary = edattn.summarization(input_seq, word_index_y, index_word)\n",
    "    precision, recall, f1 = scorer.score(sentence, summary)['rouge1']\n",
    "    return precision, recall, f1"
   ]
  },
  {
   "cell_type": "code",
   "execution_count": 20,
   "id": "adfb1142",
   "metadata": {},
   "outputs": [
    {
     "name": "stderr",
     "output_type": "stream",
     "text": [
      "                                                                                                                       \r"
     ]
    }
   ],
   "source": [
    "size = test_y.shape[0]\n",
    "precision_score = []\n",
    "recall_score = []\n",
    "f1_score = []\n",
    "for i in tqdm(range(0, size), desc=\"Progress\", leave=False):\n",
    "    precision, recall, f1 = summary_score(test_X[i], test_y[i], index_word_y, maxlength_txt)\n",
    "    #print(i, \"precision: {}, recall: {}, f1: {}\".format(round(precision,2), round(recall,2), round(f1,2)))\n",
    "    precision_score.append(precision)\n",
    "    recall_score.append(recall)\n",
    "    f1_score.append(f1)"
   ]
  },
  {
   "cell_type": "code",
   "execution_count": 21,
   "id": "efca9288",
   "metadata": {},
   "outputs": [],
   "source": [
    "performance = pd.DataFrame()\n",
    "performance['Precision'] = precision_score\n",
    "performance['Recall'] = recall_score\n",
    "performance['F1'] = f1_score"
   ]
  },
  {
   "cell_type": "code",
   "execution_count": 22,
   "id": "cde5d4df",
   "metadata": {},
   "outputs": [
    {
     "data": {
      "text/html": [
       "<div>\n",
       "<style scoped>\n",
       "    .dataframe tbody tr th:only-of-type {\n",
       "        vertical-align: middle;\n",
       "    }\n",
       "\n",
       "    .dataframe tbody tr th {\n",
       "        vertical-align: top;\n",
       "    }\n",
       "\n",
       "    .dataframe thead th {\n",
       "        text-align: right;\n",
       "    }\n",
       "</style>\n",
       "<table border=\"1\" class=\"dataframe\">\n",
       "  <thead>\n",
       "    <tr style=\"text-align: right;\">\n",
       "      <th></th>\n",
       "      <th>Precision</th>\n",
       "      <th>Recall</th>\n",
       "      <th>F1</th>\n",
       "    </tr>\n",
       "  </thead>\n",
       "  <tbody>\n",
       "    <tr>\n",
       "      <th>mean</th>\n",
       "      <td>0.084397</td>\n",
       "      <td>0.070698</td>\n",
       "      <td>0.073942</td>\n",
       "    </tr>\n",
       "    <tr>\n",
       "      <th>std</th>\n",
       "      <td>0.117127</td>\n",
       "      <td>0.090671</td>\n",
       "      <td>0.095018</td>\n",
       "    </tr>\n",
       "    <tr>\n",
       "      <th>max</th>\n",
       "      <td>0.750000</td>\n",
       "      <td>0.750000</td>\n",
       "      <td>0.666667</td>\n",
       "    </tr>\n",
       "  </tbody>\n",
       "</table>\n",
       "</div>"
      ],
      "text/plain": [
       "      Precision    Recall        F1\n",
       "mean   0.084397  0.070698  0.073942\n",
       "std    0.117127  0.090671  0.095018\n",
       "max    0.750000  0.750000  0.666667"
      ]
     },
     "execution_count": 22,
     "metadata": {},
     "output_type": "execute_result"
    }
   ],
   "source": [
    "performance.agg(['mean','std','max'])"
   ]
  },
  {
   "cell_type": "markdown",
   "id": "03a7b8e6",
   "metadata": {},
   "source": [
    "F1 Rouge score is much lower than the model with an attention layer."
   ]
  }
 ],
 "metadata": {
  "kernelspec": {
   "display_name": "Python 3 (ipykernel)",
   "language": "python",
   "name": "python3"
  },
  "language_info": {
   "codemirror_mode": {
    "name": "ipython",
    "version": 3
   },
   "file_extension": ".py",
   "mimetype": "text/x-python",
   "name": "python",
   "nbconvert_exporter": "python",
   "pygments_lexer": "ipython3",
   "version": "3.7.9"
  }
 },
 "nbformat": 4,
 "nbformat_minor": 5
}
