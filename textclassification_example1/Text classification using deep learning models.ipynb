{
 "cells": [
  {
   "cell_type": "markdown",
   "id": "7ab9f90e",
   "metadata": {},
   "source": [
    "# Text classification using deep learning models"
   ]
  },
  {
   "cell_type": "markdown",
   "id": "7c2aaa33",
   "metadata": {},
   "source": [
    "Dataset: https://www.kaggle.com/vikram92/multiclass-complaints-classification-using-bi-lstm\n",
    "\n",
    "We study the text classification using the deep learning models which are given below:\n",
    "<li> CNN model\n",
    "<li> LSTM model\n",
    "<li> Bidirectional LSTM model\n",
    "<br>\n",
    "We compare the performance among them."
   ]
  },
  {
   "cell_type": "code",
   "execution_count": 1,
   "id": "41272377",
   "metadata": {},
   "outputs": [],
   "source": [
    "import pandas as pd\n",
    "import numpy as np\n",
    "import string\n",
    "from sklearn.preprocessing import LabelEncoder\n",
    "from sklearn.model_selection import train_test_split\n",
    "from sklearn.metrics import balanced_accuracy_score, f1_score\n",
    "from sklearn.metrics import confusion_matrix, precision_score, recall_score\n",
    "from tensorflow.keras.preprocessing.text import Tokenizer\n",
    "from tensorflow.keras.preprocessing.sequence import pad_sequences\n",
    "from tensorflow.keras.models import Sequential\n",
    "from tensorflow.keras.layers import Dense, Flatten, Dropout, Embedding\n",
    "from tensorflow.keras.layers import Conv1D, LSTM, Bidirectional\n",
    "from tensorflow.keras.layers import MaxPooling1D, BatchNormalization\n",
    "from tensorflow.keras.losses import CategoricalCrossentropy\n",
    "from tensorflow.keras.optimizers import Adam\n",
    "from tensorflow.keras.utils import to_categorical\n",
    "import matplotlib.pyplot as plt"
   ]
  },
  {
   "cell_type": "markdown",
   "id": "bfbd0a17",
   "metadata": {},
   "source": [
    "Load data from csv file"
   ]
  },
  {
   "cell_type": "code",
   "execution_count": 2,
   "id": "81c80ccd",
   "metadata": {},
   "outputs": [],
   "source": [
    "df = pd.read_csv('complaints_processed.csv', index_col=0)"
   ]
  },
  {
   "cell_type": "code",
   "execution_count": 3,
   "id": "5a718706",
   "metadata": {},
   "outputs": [
    {
     "data": {
      "text/html": [
       "<div>\n",
       "<style scoped>\n",
       "    .dataframe tbody tr th:only-of-type {\n",
       "        vertical-align: middle;\n",
       "    }\n",
       "\n",
       "    .dataframe tbody tr th {\n",
       "        vertical-align: top;\n",
       "    }\n",
       "\n",
       "    .dataframe thead th {\n",
       "        text-align: right;\n",
       "    }\n",
       "</style>\n",
       "<table border=\"1\" class=\"dataframe\">\n",
       "  <thead>\n",
       "    <tr style=\"text-align: right;\">\n",
       "      <th></th>\n",
       "      <th>product</th>\n",
       "      <th>narrative</th>\n",
       "    </tr>\n",
       "  </thead>\n",
       "  <tbody>\n",
       "    <tr>\n",
       "      <th>0</th>\n",
       "      <td>credit_card</td>\n",
       "      <td>purchase order day shipping amount receive pro...</td>\n",
       "    </tr>\n",
       "    <tr>\n",
       "      <th>1</th>\n",
       "      <td>credit_card</td>\n",
       "      <td>forwarded message date tue subject please inve...</td>\n",
       "    </tr>\n",
       "    <tr>\n",
       "      <th>2</th>\n",
       "      <td>retail_banking</td>\n",
       "      <td>forwarded message cc sent friday pdt subject f...</td>\n",
       "    </tr>\n",
       "    <tr>\n",
       "      <th>3</th>\n",
       "      <td>credit_reporting</td>\n",
       "      <td>payment history missing credit report speciali...</td>\n",
       "    </tr>\n",
       "    <tr>\n",
       "      <th>4</th>\n",
       "      <td>credit_reporting</td>\n",
       "      <td>payment history missing credit report made mis...</td>\n",
       "    </tr>\n",
       "  </tbody>\n",
       "</table>\n",
       "</div>"
      ],
      "text/plain": [
       "            product                                          narrative\n",
       "0       credit_card  purchase order day shipping amount receive pro...\n",
       "1       credit_card  forwarded message date tue subject please inve...\n",
       "2    retail_banking  forwarded message cc sent friday pdt subject f...\n",
       "3  credit_reporting  payment history missing credit report speciali...\n",
       "4  credit_reporting  payment history missing credit report made mis..."
      ]
     },
     "execution_count": 3,
     "metadata": {},
     "output_type": "execute_result"
    }
   ],
   "source": [
    "df.head()"
   ]
  },
  {
   "cell_type": "markdown",
   "id": "aa1c4ecd",
   "metadata": {},
   "source": [
    "Label the classes with the integers"
   ]
  },
  {
   "cell_type": "code",
   "execution_count": 4,
   "id": "5672e872",
   "metadata": {},
   "outputs": [],
   "source": [
    "le = LabelEncoder()\n",
    "df['product'] = le.fit_transform(df['product'])"
   ]
  },
  {
   "cell_type": "code",
   "execution_count": 5,
   "id": "9a38345d",
   "metadata": {},
   "outputs": [],
   "source": [
    "num_class = len(df['product'].unique()) # Number of classes"
   ]
  },
  {
   "cell_type": "markdown",
   "id": "3f98083d",
   "metadata": {},
   "source": [
    "Clean the text"
   ]
  },
  {
   "cell_type": "code",
   "execution_count": 6,
   "id": "8df75d42",
   "metadata": {},
   "outputs": [],
   "source": [
    "def clean_doc(data):\n",
    "    data = data.str.lower() # change to lower capital\n",
    "    data = data.str.replace(r'[\\d]',' ') # remove digits\n",
    "    data = data.str.replace('[{}]'.format(string.punctuation), '') # remove punctuation\n",
    "    data = data.fillna('') # fill 'nan' with ''\n",
    "    return data"
   ]
  },
  {
   "cell_type": "code",
   "execution_count": 7,
   "id": "43d378f6",
   "metadata": {},
   "outputs": [],
   "source": [
    "df['narrative'] = clean_doc(df['narrative'])"
   ]
  },
  {
   "cell_type": "code",
   "execution_count": 8,
   "id": "adc4da48",
   "metadata": {},
   "outputs": [],
   "source": [
    "# Parameters\n",
    "num_words = 10000           # number of words for tokenization\n",
    "max_features = num_words    # input dim for embedding\n",
    "max_length = 200            # length of input sequence\n",
    "embedding_dim = 64          # output dim for embedding"
   ]
  },
  {
   "cell_type": "code",
   "execution_count": 9,
   "id": "9f1985af",
   "metadata": {},
   "outputs": [],
   "source": [
    "X = df['narrative'].tolist() # Text \n",
    "y = df['product'].values     # label"
   ]
  },
  {
   "cell_type": "markdown",
   "id": "8d4e87c9",
   "metadata": {},
   "source": [
    "Tokenize the document and pad them into sequence"
   ]
  },
  {
   "cell_type": "code",
   "execution_count": 10,
   "id": "3d681cc3",
   "metadata": {},
   "outputs": [],
   "source": [
    "tokenizer = Tokenizer(num_words=num_words, lower=False) # tokenize the texts\n",
    "tokenizer.fit_on_texts(X)\n",
    "docs = tokenizer.texts_to_sequences(X)\n",
    "\n",
    "X = pad_sequences(docs, maxlen=max_length, padding='post') # padding the sequences"
   ]
  },
  {
   "cell_type": "markdown",
   "id": "0f2fb78c",
   "metadata": {},
   "source": [
    "Split the train and test sets"
   ]
  },
  {
   "cell_type": "code",
   "execution_count": 11,
   "id": "90ed5e0e",
   "metadata": {},
   "outputs": [],
   "source": [
    "train_X, test_X, train_y, test_y = train_test_split(X, y, test_size=.2, random_state=21)"
   ]
  },
  {
   "cell_type": "code",
   "execution_count": 12,
   "id": "8e07ce4a",
   "metadata": {},
   "outputs": [],
   "source": [
    "train_label = train_y \n",
    "test_label = test_y\n",
    "train_y = to_categorical(train_y) \n",
    "test_y = to_categorical(test_y)"
   ]
  },
  {
   "cell_type": "markdown",
   "id": "3dda0b39",
   "metadata": {},
   "source": [
    "<b> Deep Learning model"
   ]
  },
  {
   "cell_type": "code",
   "execution_count": 13,
   "id": "9d1b2600",
   "metadata": {},
   "outputs": [],
   "source": [
    "class CNN_model():\n",
    "    '''\n",
    "      CNN model\n",
    "    '''\n",
    "    def __init__(self, max_features, max_length, embedding_dim, num_class):\n",
    "        self.max_features = max_features\n",
    "        self.max_length = max_length\n",
    "        self.embedding_dim = embedding_dim\n",
    "        self.num_class = num_class\n",
    "        \n",
    "    def model(self):\n",
    "        model = Sequential()\n",
    "        model.add(Embedding(max_features, embedding_dim, input_length=max_length))\n",
    "        model.add(Conv1D(filters=embedding_dim, kernel_size=8, padding=\"valid\", activation='relu', strides=3))\n",
    "        model.add(MaxPooling1D(pool_size=8))\n",
    "        model.add(BatchNormalization())\n",
    "        model.add(Dropout(0.1))\n",
    "        model.add(Flatten())\n",
    "        model.add(Dense(embedding_dim, activation='relu'))\n",
    "        model.add(Dropout(0.1))\n",
    "        model.add(Dense(num_class, activation='softmax'))\n",
    "        return model"
   ]
  },
  {
   "cell_type": "code",
   "execution_count": 14,
   "id": "44546cda",
   "metadata": {},
   "outputs": [],
   "source": [
    "class LSTM_model(CNN_model):\n",
    "    '''\n",
    "      LSTM model\n",
    "    '''\n",
    "    \n",
    "    def __init__(self):\n",
    "        super().__init__(max_features, max_length, embedding_dim, num_class)\n",
    "        \n",
    "    def model(self):\n",
    "        model = Sequential()\n",
    "        model.add(Embedding(max_features, embedding_dim, input_length=max_length))\n",
    "        model.add(LSTM(embedding_dim, return_sequences=True))\n",
    "        model.add(LSTM(embedding_dim))\n",
    "        model.add(Dense(embedding_dim, activation='relu'))\n",
    "        model.add(Dense(num_class, activation='softmax'))\n",
    "        return model"
   ]
  },
  {
   "cell_type": "code",
   "execution_count": 15,
   "id": "54720f20",
   "metadata": {},
   "outputs": [],
   "source": [
    "class BidirectLSTM_model(LSTM_model):\n",
    "    '''\n",
    "      Bidirectional LSTM model\n",
    "    '''\n",
    "    \n",
    "    def __init__(self):\n",
    "        super().__init__()\n",
    "        \n",
    "    def model(self):\n",
    "        model = Sequential()\n",
    "        model.add(Embedding(max_features, embedding_dim, input_length=max_length))\n",
    "        model.add(Bidirectional(LSTM(64, return_sequences=True)))\n",
    "        model.add(Bidirectional(LSTM(64)))\n",
    "        model.add(Dense(embedding_dim, activation='relu'))\n",
    "        model.add(Dense(num_class, activation='softmax'))\n",
    "        return model"
   ]
  },
  {
   "cell_type": "markdown",
   "id": "3a185a22",
   "metadata": {},
   "source": [
    "# CNN model"
   ]
  },
  {
   "cell_type": "code",
   "execution_count": 16,
   "id": "491b64fa",
   "metadata": {},
   "outputs": [],
   "source": [
    "cnn = CNN_model(max_features, max_length, embedding_dim, num_class).model()"
   ]
  },
  {
   "cell_type": "code",
   "execution_count": 17,
   "id": "8c94f12f",
   "metadata": {},
   "outputs": [
    {
     "name": "stdout",
     "output_type": "stream",
     "text": [
      "Model: \"sequential\"\n",
      "_________________________________________________________________\n",
      "Layer (type)                 Output Shape              Param #   \n",
      "=================================================================\n",
      "embedding (Embedding)        (None, 200, 64)           640000    \n",
      "_________________________________________________________________\n",
      "conv1d (Conv1D)              (None, 65, 64)            32832     \n",
      "_________________________________________________________________\n",
      "max_pooling1d (MaxPooling1D) (None, 8, 64)             0         \n",
      "_________________________________________________________________\n",
      "batch_normalization (BatchNo (None, 8, 64)             256       \n",
      "_________________________________________________________________\n",
      "dropout (Dropout)            (None, 8, 64)             0         \n",
      "_________________________________________________________________\n",
      "flatten (Flatten)            (None, 512)               0         \n",
      "_________________________________________________________________\n",
      "dense (Dense)                (None, 64)                32832     \n",
      "_________________________________________________________________\n",
      "dropout_1 (Dropout)          (None, 64)                0         \n",
      "_________________________________________________________________\n",
      "dense_1 (Dense)              (None, 5)                 325       \n",
      "=================================================================\n",
      "Total params: 706,245\n",
      "Trainable params: 706,117\n",
      "Non-trainable params: 128\n",
      "_________________________________________________________________\n"
     ]
    }
   ],
   "source": [
    "cnn.summary()"
   ]
  },
  {
   "cell_type": "code",
   "execution_count": 18,
   "id": "6dacc6d1",
   "metadata": {},
   "outputs": [],
   "source": [
    "cnn.compile(loss=CategoricalCrossentropy(), optimizer=Adam(), metrics=['accuracy'])"
   ]
  },
  {
   "cell_type": "code",
   "execution_count": 19,
   "id": "108ac1df",
   "metadata": {},
   "outputs": [
    {
     "name": "stdout",
     "output_type": "stream",
     "text": [
      "Train on 116942 samples, validate on 12994 samples\n",
      "Epoch 1/6\n",
      "116942/116942 [==============================] - 50s 430us/sample - loss: 0.4723 - accuracy: 0.8360 - val_loss: 0.3921 - val_accuracy: 0.8604\n",
      "Epoch 2/6\n",
      "116942/116942 [==============================] - 51s 439us/sample - loss: 0.3392 - accuracy: 0.8817 - val_loss: 0.3758 - val_accuracy: 0.8681\n",
      "Epoch 3/6\n",
      "116942/116942 [==============================] - 53s 450us/sample - loss: 0.2694 - accuracy: 0.9053 - val_loss: 0.3844 - val_accuracy: 0.8728\n",
      "Epoch 4/6\n",
      "116942/116942 [==============================] - 53s 449us/sample - loss: 0.2141 - accuracy: 0.9247 - val_loss: 0.4326 - val_accuracy: 0.8675\n",
      "Epoch 5/6\n",
      "116942/116942 [==============================] - 53s 450us/sample - loss: 0.1704 - accuracy: 0.9407 - val_loss: 0.4811 - val_accuracy: 0.8657\n",
      "Epoch 6/6\n",
      "116942/116942 [==============================] - 53s 455us/sample - loss: 0.1426 - accuracy: 0.9502 - val_loss: 0.5145 - val_accuracy: 0.8652\n"
     ]
    },
    {
     "data": {
      "text/plain": [
       "<tensorflow.python.keras.callbacks.History at 0x130002db5c8>"
      ]
     },
     "execution_count": 19,
     "metadata": {},
     "output_type": "execute_result"
    }
   ],
   "source": [
    "cnn.fit(train_X, train_y, epochs=6, validation_split=0.1, verbose=1)"
   ]
  },
  {
   "cell_type": "markdown",
   "id": "ddaad8af",
   "metadata": {},
   "source": [
    "<b> Performance"
   ]
  },
  {
   "cell_type": "code",
   "execution_count": 20,
   "id": "ef61f10b",
   "metadata": {},
   "outputs": [],
   "source": [
    "def performance_metrics(truedata, prediction, avg='micro'):\n",
    "    print('Metrics')\n",
    "    print('====================================')\n",
    "    balanced_accuracy = balanced_accuracy_score(truedata, prediction)\n",
    "    f1 = f1_score(truedata, prediction, average=avg)\n",
    "    precision = precision_score(truedata, prediction, average=avg)\n",
    "    recall = recall_score(truedata, prediction, average=avg)\n",
    "    print('Balanced accuracy: ', round(balanced_accuracy,3))\n",
    "    print('F1 score : ', round(f1,3))\n",
    "    print('Precision score : ', round(precision,3))\n",
    "    print('Recall score : ', round(recall,3))\n",
    "    return balanced_accuracy, f1, precision, recall"
   ]
  },
  {
   "cell_type": "code",
   "execution_count": 21,
   "id": "f5f76640",
   "metadata": {},
   "outputs": [],
   "source": [
    "pred = cnn.predict_classes(test_X)"
   ]
  },
  {
   "cell_type": "code",
   "execution_count": 22,
   "id": "412ca39c",
   "metadata": {},
   "outputs": [
    {
     "name": "stdout",
     "output_type": "stream",
     "text": [
      "Metrics\n",
      "====================================\n",
      "Balanced accuracy:  0.807\n",
      "F1 score :  0.868\n",
      "Precision score :  0.868\n",
      "Recall score :  0.868\n"
     ]
    }
   ],
   "source": [
    "performance = {}\n",
    "performance['CNN'] = performance_metrics(test_label, pred, avg='micro')"
   ]
  },
  {
   "cell_type": "markdown",
   "id": "62bf9b0d",
   "metadata": {},
   "source": [
    "# LSTM model"
   ]
  },
  {
   "cell_type": "code",
   "execution_count": 23,
   "id": "376bbfa2",
   "metadata": {},
   "outputs": [],
   "source": [
    "lstm = LSTM_model().model()"
   ]
  },
  {
   "cell_type": "code",
   "execution_count": 24,
   "id": "6d0594b4",
   "metadata": {},
   "outputs": [
    {
     "name": "stdout",
     "output_type": "stream",
     "text": [
      "Model: \"sequential_1\"\n",
      "_________________________________________________________________\n",
      "Layer (type)                 Output Shape              Param #   \n",
      "=================================================================\n",
      "embedding_1 (Embedding)      (None, 200, 64)           640000    \n",
      "_________________________________________________________________\n",
      "lstm (LSTM)                  (None, 200, 64)           33024     \n",
      "_________________________________________________________________\n",
      "lstm_1 (LSTM)                (None, 64)                33024     \n",
      "_________________________________________________________________\n",
      "dense_2 (Dense)              (None, 64)                4160      \n",
      "_________________________________________________________________\n",
      "dense_3 (Dense)              (None, 5)                 325       \n",
      "=================================================================\n",
      "Total params: 710,533\n",
      "Trainable params: 710,533\n",
      "Non-trainable params: 0\n",
      "_________________________________________________________________\n"
     ]
    }
   ],
   "source": [
    "lstm.summary()"
   ]
  },
  {
   "cell_type": "code",
   "execution_count": 25,
   "id": "c14ab719",
   "metadata": {},
   "outputs": [],
   "source": [
    "lstm.compile(loss=CategoricalCrossentropy(), optimizer=Adam(), metrics=['accuracy'])"
   ]
  },
  {
   "cell_type": "code",
   "execution_count": 26,
   "id": "6efe16ef",
   "metadata": {},
   "outputs": [
    {
     "name": "stdout",
     "output_type": "stream",
     "text": [
      "Train on 116942 samples, validate on 12994 samples\n",
      "Epoch 1/6\n",
      "116942/116942 [==============================] - 637s 5ms/sample - loss: 1.1222 - accuracy: 0.5681 - val_loss: 1.0834 - val_accuracy: 0.5638\n",
      "Epoch 2/6\n",
      "116942/116942 [==============================] - 626s 5ms/sample - loss: 1.0194 - accuracy: 0.6020 - val_loss: 0.8408 - val_accuracy: 0.6686\n",
      "Epoch 3/6\n",
      "116942/116942 [==============================] - 626s 5ms/sample - loss: 0.6013 - accuracy: 0.7775 - val_loss: 0.4519 - val_accuracy: 0.8475\n",
      "Epoch 4/6\n",
      "116942/116942 [==============================] - 624s 5ms/sample - loss: 0.3738 - accuracy: 0.8740 - val_loss: 0.4022 - val_accuracy: 0.8598\n",
      "Epoch 5/6\n",
      "116942/116942 [==============================] - 613s 5ms/sample - loss: 0.3179 - accuracy: 0.8918 - val_loss: 0.3732 - val_accuracy: 0.8702\n",
      "Epoch 6/6\n",
      "116942/116942 [==============================] - 618s 5ms/sample - loss: 0.2812 - accuracy: 0.9049 - val_loss: 0.3954 - val_accuracy: 0.8666\n"
     ]
    },
    {
     "data": {
      "text/plain": [
       "<tensorflow.python.keras.callbacks.History at 0x13002521588>"
      ]
     },
     "execution_count": 26,
     "metadata": {},
     "output_type": "execute_result"
    }
   ],
   "source": [
    "lstm.fit(train_X, train_y, epochs=6, validation_split=0.1, verbose=1)"
   ]
  },
  {
   "cell_type": "code",
   "execution_count": 27,
   "id": "981fcdc0",
   "metadata": {},
   "outputs": [
    {
     "name": "stdout",
     "output_type": "stream",
     "text": [
      "32485/32485 [==============================] - 43s 1ms/sample - loss: 0.3823 - accuracy: 0.8703\n"
     ]
    },
    {
     "data": {
      "text/plain": [
       "[0.3823408680156215, 0.8702786]"
      ]
     },
     "execution_count": 27,
     "metadata": {},
     "output_type": "execute_result"
    }
   ],
   "source": [
    "lstm.evaluate(test_X, test_y)"
   ]
  },
  {
   "cell_type": "markdown",
   "id": "ef48a63c",
   "metadata": {},
   "source": [
    "<b> Performance"
   ]
  },
  {
   "cell_type": "code",
   "execution_count": 28,
   "id": "eaed222f",
   "metadata": {},
   "outputs": [
    {
     "name": "stdout",
     "output_type": "stream",
     "text": [
      "Metrics\n",
      "====================================\n",
      "Balanced accuracy:  0.814\n",
      "F1 score :  0.87\n",
      "Precision score :  0.87\n",
      "Recall score :  0.87\n"
     ]
    }
   ],
   "source": [
    "pred = lstm.predict_classes(test_X)\n",
    "performance['LSTM'] = performance_metrics(test_label, pred, avg='micro')"
   ]
  },
  {
   "cell_type": "markdown",
   "id": "1a5f8beb",
   "metadata": {},
   "source": [
    "# Bidirectional LSTM"
   ]
  },
  {
   "cell_type": "code",
   "execution_count": 29,
   "id": "47cbba4e",
   "metadata": {},
   "outputs": [],
   "source": [
    "bilstm = BidirectLSTM_model().model()"
   ]
  },
  {
   "cell_type": "code",
   "execution_count": 39,
   "id": "53cc366b",
   "metadata": {},
   "outputs": [
    {
     "name": "stdout",
     "output_type": "stream",
     "text": [
      "Model: \"sequential_2\"\n",
      "_________________________________________________________________\n",
      "Layer (type)                 Output Shape              Param #   \n",
      "=================================================================\n",
      "embedding_2 (Embedding)      (None, 200, 64)           640000    \n",
      "_________________________________________________________________\n",
      "bidirectional (Bidirectional (None, 200, 128)          66048     \n",
      "_________________________________________________________________\n",
      "bidirectional_1 (Bidirection (None, 128)               98816     \n",
      "_________________________________________________________________\n",
      "dense_4 (Dense)              (None, 64)                8256      \n",
      "_________________________________________________________________\n",
      "dense_5 (Dense)              (None, 5)                 325       \n",
      "=================================================================\n",
      "Total params: 813,445\n",
      "Trainable params: 813,445\n",
      "Non-trainable params: 0\n",
      "_________________________________________________________________\n"
     ]
    }
   ],
   "source": [
    "bilstm.summary()"
   ]
  },
  {
   "cell_type": "code",
   "execution_count": 30,
   "id": "11e3481b",
   "metadata": {},
   "outputs": [],
   "source": [
    "bilstm.compile(loss=CategoricalCrossentropy(), optimizer=Adam(), metrics=['accuracy'])"
   ]
  },
  {
   "cell_type": "code",
   "execution_count": 31,
   "id": "514a9233",
   "metadata": {},
   "outputs": [
    {
     "name": "stdout",
     "output_type": "stream",
     "text": [
      "Train on 116942 samples, validate on 12994 samples\n",
      "Epoch 1/6\n",
      "116942/116942 [==============================] - 963s 8ms/sample - loss: 0.4857 - accuracy: 0.8316 - val_loss: 0.4295 - val_accuracy: 0.8519\n",
      "Epoch 2/6\n",
      "116942/116942 [==============================] - 967s 8ms/sample - loss: 0.3571 - accuracy: 0.8790 - val_loss: 0.3749 - val_accuracy: 0.8691\n",
      "Epoch 3/6\n",
      "116942/116942 [==============================] - 953s 8ms/sample - loss: 0.3128 - accuracy: 0.8921 - val_loss: 0.3766 - val_accuracy: 0.8654\n",
      "Epoch 4/6\n",
      "116942/116942 [==============================] - 949s 8ms/sample - loss: 0.2797 - accuracy: 0.9039 - val_loss: 0.3705 - val_accuracy: 0.8729\n",
      "Epoch 5/6\n",
      "116942/116942 [==============================] - 955s 8ms/sample - loss: 0.2524 - accuracy: 0.9129 - val_loss: 0.3880 - val_accuracy: 0.8692\n",
      "Epoch 6/6\n",
      "116942/116942 [==============================] - 969s 8ms/sample - loss: 0.2241 - accuracy: 0.9235 - val_loss: 0.3855 - val_accuracy: 0.8729\n"
     ]
    },
    {
     "data": {
      "text/plain": [
       "<tensorflow.python.keras.callbacks.History at 0x130107c6908>"
      ]
     },
     "execution_count": 31,
     "metadata": {},
     "output_type": "execute_result"
    }
   ],
   "source": [
    "bilstm.fit(train_X, train_y, epochs=6, validation_split=0.1, verbose=1)"
   ]
  },
  {
   "cell_type": "markdown",
   "id": "4d0ef5d3",
   "metadata": {},
   "source": [
    "<b> Performance"
   ]
  },
  {
   "cell_type": "code",
   "execution_count": 32,
   "id": "e72c3d1f",
   "metadata": {},
   "outputs": [
    {
     "name": "stdout",
     "output_type": "stream",
     "text": [
      "Metrics\n",
      "====================================\n",
      "Balanced accuracy:  0.839\n",
      "F1 score :  0.878\n",
      "Precision score :  0.878\n",
      "Recall score :  0.878\n"
     ]
    }
   ],
   "source": [
    "pred = bilstm.predict_classes(test_X)\n",
    "performance['BidirectLSTM'] = performance_metrics(test_label, pred, avg='micro')"
   ]
  },
  {
   "cell_type": "markdown",
   "id": "5c58cc90",
   "metadata": {},
   "source": [
    "#  Comparison the performances among models"
   ]
  },
  {
   "cell_type": "code",
   "execution_count": 33,
   "id": "4f9d99fa",
   "metadata": {},
   "outputs": [],
   "source": [
    "performance = pd.DataFrame.from_dict(performance)\n",
    "performance.index = ['Balanced Acc.', 'F1', 'Precision', 'Recall']"
   ]
  },
  {
   "cell_type": "code",
   "execution_count": 38,
   "id": "00f35815",
   "metadata": {},
   "outputs": [
    {
     "data": {
      "text/html": [
       "<div>\n",
       "<style scoped>\n",
       "    .dataframe tbody tr th:only-of-type {\n",
       "        vertical-align: middle;\n",
       "    }\n",
       "\n",
       "    .dataframe tbody tr th {\n",
       "        vertical-align: top;\n",
       "    }\n",
       "\n",
       "    .dataframe thead th {\n",
       "        text-align: right;\n",
       "    }\n",
       "</style>\n",
       "<table border=\"1\" class=\"dataframe\">\n",
       "  <thead>\n",
       "    <tr style=\"text-align: right;\">\n",
       "      <th></th>\n",
       "      <th>Balanced Acc.</th>\n",
       "      <th>F1</th>\n",
       "      <th>Precision</th>\n",
       "      <th>Recall</th>\n",
       "    </tr>\n",
       "  </thead>\n",
       "  <tbody>\n",
       "    <tr>\n",
       "      <th>CNN</th>\n",
       "      <td>0.807</td>\n",
       "      <td>0.868</td>\n",
       "      <td>0.868</td>\n",
       "      <td>0.868</td>\n",
       "    </tr>\n",
       "    <tr>\n",
       "      <th>LSTM</th>\n",
       "      <td>0.814</td>\n",
       "      <td>0.870</td>\n",
       "      <td>0.870</td>\n",
       "      <td>0.870</td>\n",
       "    </tr>\n",
       "    <tr>\n",
       "      <th>BidirectLSTM</th>\n",
       "      <td>0.839</td>\n",
       "      <td>0.878</td>\n",
       "      <td>0.878</td>\n",
       "      <td>0.878</td>\n",
       "    </tr>\n",
       "  </tbody>\n",
       "</table>\n",
       "</div>"
      ],
      "text/plain": [
       "              Balanced Acc.     F1  Precision  Recall\n",
       "CNN                   0.807  0.868      0.868   0.868\n",
       "LSTM                  0.814  0.870      0.870   0.870\n",
       "BidirectLSTM          0.839  0.878      0.878   0.878"
      ]
     },
     "execution_count": 38,
     "metadata": {},
     "output_type": "execute_result"
    }
   ],
   "source": [
    "performance.T.round(3)"
   ]
  },
  {
   "cell_type": "markdown",
   "id": "8f3c895a",
   "metadata": {},
   "source": [
    "Bidirectional LSTM provides the best performance in classification. However, the training time is longest. In addition, the deep learning models could give a better performance than the machine learning model using Native Baynes."
   ]
  }
 ],
 "metadata": {
  "kernelspec": {
   "display_name": "Python 3 (ipykernel)",
   "language": "python",
   "name": "python3"
  },
  "language_info": {
   "codemirror_mode": {
    "name": "ipython",
    "version": 3
   },
   "file_extension": ".py",
   "mimetype": "text/x-python",
   "name": "python",
   "nbconvert_exporter": "python",
   "pygments_lexer": "ipython3",
   "version": "3.7.9"
  }
 },
 "nbformat": 4,
 "nbformat_minor": 5
}
